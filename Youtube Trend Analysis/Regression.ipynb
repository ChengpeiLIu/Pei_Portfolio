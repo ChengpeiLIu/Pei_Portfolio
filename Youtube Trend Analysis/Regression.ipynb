{
 "cells": [
  {
   "cell_type": "code",
   "execution_count": 70,
   "metadata": {},
   "outputs": [
    {
     "name": "stderr",
     "output_type": "stream",
     "text": [
      "[nltk_data] Downloading package words to\n",
      "[nltk_data]     C:\\Users\\zxy\\AppData\\Roaming\\nltk_data...\n",
      "[nltk_data]   Package words is already up-to-date!\n"
     ]
    }
   ],
   "source": [
    "import pandas as pd\n",
    "import numpy as np\n",
    "from sklearn.linear_model import LinearRegression\n",
    "from sklearn import metrics\n",
    "from sklearn.tree import DecisionTreeClassifier, DecisionTreeRegressor\n",
    "from sklearn.tree import export_text\n",
    "from sklearn.ensemble import RandomForestClassifier, GradientBoostingClassifier\n",
    "from sklearn.model_selection import train_test_split, cross_val_score, GridSearchCV\n",
    "from sklearn.linear_model import LogisticRegression, LogisticRegressionCV\n",
    "from sklearn.metrics import confusion_matrix, accuracy_score\n",
    "from sklearn.metrics import plot_roc_curve, roc_auc_score\n",
    "from sklearn.inspection import permutation_importance\n",
    "from sklearn.preprocessing import StandardScaler\n",
    "from sklearn import datasets, linear_model\n",
    "import statsmodels.api as sm\n",
    "from scipy import stats\n",
    "from sklearn.metrics import accuracy_score,recall_score,precision_score,f1_score\n",
    "from gingerit.gingerit import GingerIt\n",
    "import requests\n",
    "from bs4 import BeautifulSoup\n",
    "import json\n",
    "from nltk.tokenize import word_tokenize\n",
    "import nltk\n",
    "nltk.download('words')\n",
    "words = set(nltk.corpus.words.words())\n",
    "from nltk.sentiment.vader import SentimentIntensityAnalyzer\n",
    "sid = SentimentIntensityAnalyzer()"
   ]
  },
  {
   "cell_type": "markdown",
   "metadata": {},
   "source": [
    "#### import and merge data"
   ]
  },
  {
   "cell_type": "code",
   "execution_count": 38,
   "metadata": {},
   "outputs": [
    {
     "name": "stderr",
     "output_type": "stream",
     "text": [
      "b'Skipping line 41589: expected 4 fields, saw 11\\nSkipping line 51628: expected 4 fields, saw 7\\nSkipping line 114465: expected 4 fields, saw 5\\n'\n",
      "b'Skipping line 142496: expected 4 fields, saw 8\\nSkipping line 189732: expected 4 fields, saw 6\\nSkipping line 245218: expected 4 fields, saw 7\\n'\n",
      "b'Skipping line 388430: expected 4 fields, saw 5\\n'\n",
      "C:\\ProgramData\\Anaconda3\\lib\\site-packages\\IPython\\core\\interactiveshell.py:3063: DtypeWarning: Columns (2,3) have mixed types.Specify dtype option on import or set low_memory=False.\n",
      "  interactivity=interactivity, compiler=compiler, result=result)\n",
      "b'Skipping line 2401: expected 11 fields, saw 21\\nSkipping line 2800: expected 11 fields, saw 21\\nSkipping line 5297: expected 11 fields, saw 12\\nSkipping line 5299: expected 11 fields, saw 12\\nSkipping line 5300: expected 11 fields, saw 12\\nSkipping line 5301: expected 11 fields, saw 12\\n'\n"
     ]
    }
   ],
   "source": [
    "#import data\n",
    "comment=pd.read_csv(\"UScomments.csv\",error_bad_lines=False) \n",
    "v=pd.read_csv(\"USvideos.csv\",error_bad_lines=False) "
   ]
  },
  {
   "cell_type": "code",
   "execution_count": 39,
   "metadata": {},
   "outputs": [],
   "source": [
    "# sort by video_id and date by ascending order\n",
    "v.sort_values(['video_id','date'],ascending=[True, True], inplace=True)"
   ]
  },
  {
   "cell_type": "code",
   "execution_count": 40,
   "metadata": {},
   "outputs": [],
   "source": [
    "# in video dataset, one vedio may have several channel_title or tags, but in comments dataset we can only know this comments is under which video but can't know from which channel\n",
    "# only keep the video_id with earliest date\n",
    "v.drop_duplicates(subset =\"video_id\",keep='first',inplace=True)"
   ]
  },
  {
   "cell_type": "code",
   "execution_count": 42,
   "metadata": {},
   "outputs": [],
   "source": [
    "#merge comment and vedio dataset\n",
    "v_c=v.merge(comment,on='video_id')"
   ]
  },
  {
   "cell_type": "code",
   "execution_count": 43,
   "metadata": {},
   "outputs": [],
   "source": [
    "# import category data\n",
    "with open('US_category_id.json', 'r') as fp:\n",
    "    us_category = json.load(fp) "
   ]
  },
  {
   "cell_type": "code",
   "execution_count": 44,
   "metadata": {},
   "outputs": [],
   "source": [
    "t=pd.DataFrame(us_category)\n",
    "item=pd.DataFrame(t['items'])"
   ]
  },
  {
   "cell_type": "code",
   "execution_count": 46,
   "metadata": {},
   "outputs": [],
   "source": [
    "item['id']=item['items'].apply(lambda x: x['id'])\n",
    "item['title']=item['items'].apply(lambda x: x['snippet']['title'])"
   ]
  },
  {
   "cell_type": "code",
   "execution_count": 47,
   "metadata": {},
   "outputs": [],
   "source": [
    "category=item[['id','title']]"
   ]
  },
  {
   "cell_type": "code",
   "execution_count": 48,
   "metadata": {},
   "outputs": [],
   "source": [
    "# merge vedio_comments dataset with category dataset\n",
    "category['id_str']=category.id.astype(str)\n",
    "v_c['category_id_str']=v_c.category_id.astype(str)\n",
    "vc_f=pd.merge(v_c, category, how='inner', left_on='category_id_str', right_on='id_str')"
   ]
  },
  {
   "cell_type": "code",
   "execution_count": 49,
   "metadata": {},
   "outputs": [
    {
     "data": {
      "text/html": [
       "<div>\n",
       "<style scoped>\n",
       "    .dataframe tbody tr th:only-of-type {\n",
       "        vertical-align: middle;\n",
       "    }\n",
       "\n",
       "    .dataframe tbody tr th {\n",
       "        vertical-align: top;\n",
       "    }\n",
       "\n",
       "    .dataframe thead th {\n",
       "        text-align: right;\n",
       "    }\n",
       "</style>\n",
       "<table border=\"1\" class=\"dataframe\">\n",
       "  <thead>\n",
       "    <tr style=\"text-align: right;\">\n",
       "      <th></th>\n",
       "      <th>video_id</th>\n",
       "      <th>title_x</th>\n",
       "      <th>channel_title</th>\n",
       "      <th>category_id</th>\n",
       "      <th>tags</th>\n",
       "      <th>views</th>\n",
       "      <th>likes_x</th>\n",
       "      <th>dislikes</th>\n",
       "      <th>comment_total</th>\n",
       "      <th>thumbnail_link</th>\n",
       "      <th>date</th>\n",
       "      <th>comment_text</th>\n",
       "      <th>likes_y</th>\n",
       "      <th>replies</th>\n",
       "      <th>category_id_str</th>\n",
       "      <th>id</th>\n",
       "      <th>title_y</th>\n",
       "      <th>id_str</th>\n",
       "    </tr>\n",
       "  </thead>\n",
       "  <tbody>\n",
       "    <tr>\n",
       "      <th>0</th>\n",
       "      <td>--JinobXWPk</td>\n",
       "      <td>DANGEROUS Jungle Spider!</td>\n",
       "      <td>Brave Wilderness</td>\n",
       "      <td>15</td>\n",
       "      <td>adventure|adventurous|animals|breaking|breakin...</td>\n",
       "      <td>1319945</td>\n",
       "      <td>38949</td>\n",
       "      <td>533</td>\n",
       "      <td>6768</td>\n",
       "      <td>https://i.ytimg.com/vi/--JinobXWPk/default.jpg</td>\n",
       "      <td>20</td>\n",
       "      <td>I saw this wandering spider in our bathroom se...</td>\n",
       "      <td>0</td>\n",
       "      <td>0</td>\n",
       "      <td>15</td>\n",
       "      <td>15</td>\n",
       "      <td>Pets &amp; Animals</td>\n",
       "      <td>15</td>\n",
       "    </tr>\n",
       "    <tr>\n",
       "      <th>1</th>\n",
       "      <td>--JinobXWPk</td>\n",
       "      <td>DANGEROUS Jungle Spider!</td>\n",
       "      <td>Brave Wilderness</td>\n",
       "      <td>15</td>\n",
       "      <td>adventure|adventurous|animals|breaking|breakin...</td>\n",
       "      <td>1319945</td>\n",
       "      <td>38949</td>\n",
       "      <td>533</td>\n",
       "      <td>6768</td>\n",
       "      <td>https://i.ytimg.com/vi/--JinobXWPk/default.jpg</td>\n",
       "      <td>20</td>\n",
       "      <td>Can't you just stick to small ants, and bees? ...</td>\n",
       "      <td>0</td>\n",
       "      <td>0</td>\n",
       "      <td>15</td>\n",
       "      <td>15</td>\n",
       "      <td>Pets &amp; Animals</td>\n",
       "      <td>15</td>\n",
       "    </tr>\n",
       "    <tr>\n",
       "      <th>2</th>\n",
       "      <td>--JinobXWPk</td>\n",
       "      <td>DANGEROUS Jungle Spider!</td>\n",
       "      <td>Brave Wilderness</td>\n",
       "      <td>15</td>\n",
       "      <td>adventure|adventurous|animals|breaking|breakin...</td>\n",
       "      <td>1319945</td>\n",
       "      <td>38949</td>\n",
       "      <td>533</td>\n",
       "      <td>6768</td>\n",
       "      <td>https://i.ytimg.com/vi/--JinobXWPk/default.jpg</td>\n",
       "      <td>20</td>\n",
       "      <td>Brazilian wandering spider is the deadliest sp...</td>\n",
       "      <td>0</td>\n",
       "      <td>0</td>\n",
       "      <td>15</td>\n",
       "      <td>15</td>\n",
       "      <td>Pets &amp; Animals</td>\n",
       "      <td>15</td>\n",
       "    </tr>\n",
       "    <tr>\n",
       "      <th>3</th>\n",
       "      <td>--JinobXWPk</td>\n",
       "      <td>DANGEROUS Jungle Spider!</td>\n",
       "      <td>Brave Wilderness</td>\n",
       "      <td>15</td>\n",
       "      <td>adventure|adventurous|animals|breaking|breakin...</td>\n",
       "      <td>1319945</td>\n",
       "      <td>38949</td>\n",
       "      <td>533</td>\n",
       "      <td>6768</td>\n",
       "      <td>https://i.ytimg.com/vi/--JinobXWPk/default.jpg</td>\n",
       "      <td>20</td>\n",
       "      <td>Nothing a can of hairspray and lighter couldn'...</td>\n",
       "      <td>0</td>\n",
       "      <td>0</td>\n",
       "      <td>15</td>\n",
       "      <td>15</td>\n",
       "      <td>Pets &amp; Animals</td>\n",
       "      <td>15</td>\n",
       "    </tr>\n",
       "    <tr>\n",
       "      <th>4</th>\n",
       "      <td>--JinobXWPk</td>\n",
       "      <td>DANGEROUS Jungle Spider!</td>\n",
       "      <td>Brave Wilderness</td>\n",
       "      <td>15</td>\n",
       "      <td>adventure|adventurous|animals|breaking|breakin...</td>\n",
       "      <td>1319945</td>\n",
       "      <td>38949</td>\n",
       "      <td>533</td>\n",
       "      <td>6768</td>\n",
       "      <td>https://i.ytimg.com/vi/--JinobXWPk/default.jpg</td>\n",
       "      <td>20</td>\n",
       "      <td>That's a snek</td>\n",
       "      <td>0</td>\n",
       "      <td>0</td>\n",
       "      <td>15</td>\n",
       "      <td>15</td>\n",
       "      <td>Pets &amp; Animals</td>\n",
       "      <td>15</td>\n",
       "    </tr>\n",
       "  </tbody>\n",
       "</table>\n",
       "</div>"
      ],
      "text/plain": [
       "      video_id                   title_x     channel_title  category_id  \\\n",
       "0  --JinobXWPk  DANGEROUS Jungle Spider!  Brave Wilderness           15   \n",
       "1  --JinobXWPk  DANGEROUS Jungle Spider!  Brave Wilderness           15   \n",
       "2  --JinobXWPk  DANGEROUS Jungle Spider!  Brave Wilderness           15   \n",
       "3  --JinobXWPk  DANGEROUS Jungle Spider!  Brave Wilderness           15   \n",
       "4  --JinobXWPk  DANGEROUS Jungle Spider!  Brave Wilderness           15   \n",
       "\n",
       "                                                tags    views  likes_x  \\\n",
       "0  adventure|adventurous|animals|breaking|breakin...  1319945    38949   \n",
       "1  adventure|adventurous|animals|breaking|breakin...  1319945    38949   \n",
       "2  adventure|adventurous|animals|breaking|breakin...  1319945    38949   \n",
       "3  adventure|adventurous|animals|breaking|breakin...  1319945    38949   \n",
       "4  adventure|adventurous|animals|breaking|breakin...  1319945    38949   \n",
       "\n",
       "   dislikes  comment_total                                  thumbnail_link  \\\n",
       "0       533           6768  https://i.ytimg.com/vi/--JinobXWPk/default.jpg   \n",
       "1       533           6768  https://i.ytimg.com/vi/--JinobXWPk/default.jpg   \n",
       "2       533           6768  https://i.ytimg.com/vi/--JinobXWPk/default.jpg   \n",
       "3       533           6768  https://i.ytimg.com/vi/--JinobXWPk/default.jpg   \n",
       "4       533           6768  https://i.ytimg.com/vi/--JinobXWPk/default.jpg   \n",
       "\n",
       "   date                                       comment_text likes_y replies  \\\n",
       "0    20  I saw this wandering spider in our bathroom se...       0       0   \n",
       "1    20  Can't you just stick to small ants, and bees? ...       0       0   \n",
       "2    20  Brazilian wandering spider is the deadliest sp...       0       0   \n",
       "3    20  Nothing a can of hairspray and lighter couldn'...       0       0   \n",
       "4    20                                      That's a snek       0       0   \n",
       "\n",
       "  category_id_str  id         title_y id_str  \n",
       "0              15  15  Pets & Animals     15  \n",
       "1              15  15  Pets & Animals     15  \n",
       "2              15  15  Pets & Animals     15  \n",
       "3              15  15  Pets & Animals     15  \n",
       "4              15  15  Pets & Animals     15  "
      ]
     },
     "execution_count": 49,
     "metadata": {},
     "output_type": "execute_result"
    }
   ],
   "source": [
    "vc_f.head()"
   ]
  },
  {
   "cell_type": "code",
   "execution_count": 50,
   "metadata": {},
   "outputs": [],
   "source": [
    "# filter YouTube Category: Music, Entertainment, Comedy, People & Blogs, Film & Animation\n",
    "vcff=vc_f[vc_f['title_y'].isin( ['Music', 'Entertainment', 'Comedy', 'People & Blogs', 'Film & Animation'])]"
   ]
  },
  {
   "cell_type": "code",
   "execution_count": 53,
   "metadata": {},
   "outputs": [
    {
     "data": {
      "text/html": [
       "<div>\n",
       "<style scoped>\n",
       "    .dataframe tbody tr th:only-of-type {\n",
       "        vertical-align: middle;\n",
       "    }\n",
       "\n",
       "    .dataframe tbody tr th {\n",
       "        vertical-align: top;\n",
       "    }\n",
       "\n",
       "    .dataframe thead th {\n",
       "        text-align: right;\n",
       "    }\n",
       "</style>\n",
       "<table border=\"1\" class=\"dataframe\">\n",
       "  <thead>\n",
       "    <tr style=\"text-align: right;\">\n",
       "      <th></th>\n",
       "      <th>video_id</th>\n",
       "      <th>title_x</th>\n",
       "      <th>channel_title</th>\n",
       "      <th>category_id</th>\n",
       "      <th>tags</th>\n",
       "      <th>views</th>\n",
       "      <th>likes_x</th>\n",
       "      <th>dislikes</th>\n",
       "      <th>comment_total</th>\n",
       "      <th>thumbnail_link</th>\n",
       "      <th>date</th>\n",
       "      <th>comment_text</th>\n",
       "      <th>likes_y</th>\n",
       "      <th>replies</th>\n",
       "      <th>category_id_str</th>\n",
       "      <th>id</th>\n",
       "      <th>title_y</th>\n",
       "      <th>id_str</th>\n",
       "    </tr>\n",
       "  </thead>\n",
       "  <tbody>\n",
       "    <tr>\n",
       "      <th>9341</th>\n",
       "      <td>-3AGlBYyLjo</td>\n",
       "      <td>Best Tom Petty Interview Ever</td>\n",
       "      <td>CrazyLaughAction</td>\n",
       "      <td>24</td>\n",
       "      <td>tom|petty|tom petty|Tom Petty|Tom Petty (Music...</td>\n",
       "      <td>2143</td>\n",
       "      <td>16</td>\n",
       "      <td>2</td>\n",
       "      <td>4</td>\n",
       "      <td>https://i.ytimg.com/vi/-3AGlBYyLjo/default.jpg</td>\n",
       "      <td>6.1</td>\n",
       "      <td>Where are the other interviews Gary Chandling ...</td>\n",
       "      <td>0</td>\n",
       "      <td>0</td>\n",
       "      <td>24</td>\n",
       "      <td>24</td>\n",
       "      <td>Entertainment</td>\n",
       "      <td>24</td>\n",
       "    </tr>\n",
       "    <tr>\n",
       "      <th>9342</th>\n",
       "      <td>-3AGlBYyLjo</td>\n",
       "      <td>Best Tom Petty Interview Ever</td>\n",
       "      <td>CrazyLaughAction</td>\n",
       "      <td>24</td>\n",
       "      <td>tom|petty|tom petty|Tom Petty|Tom Petty (Music...</td>\n",
       "      <td>2143</td>\n",
       "      <td>16</td>\n",
       "      <td>2</td>\n",
       "      <td>4</td>\n",
       "      <td>https://i.ytimg.com/vi/-3AGlBYyLjo/default.jpg</td>\n",
       "      <td>6.1</td>\n",
       "      <td>My god now tom has passed away too....totally ...</td>\n",
       "      <td>0</td>\n",
       "      <td>0</td>\n",
       "      <td>24</td>\n",
       "      <td>24</td>\n",
       "      <td>Entertainment</td>\n",
       "      <td>24</td>\n",
       "    </tr>\n",
       "    <tr>\n",
       "      <th>9343</th>\n",
       "      <td>-3AGlBYyLjo</td>\n",
       "      <td>Best Tom Petty Interview Ever</td>\n",
       "      <td>CrazyLaughAction</td>\n",
       "      <td>24</td>\n",
       "      <td>tom|petty|tom petty|Tom Petty|Tom Petty (Music...</td>\n",
       "      <td>2143</td>\n",
       "      <td>16</td>\n",
       "      <td>2</td>\n",
       "      <td>4</td>\n",
       "      <td>https://i.ytimg.com/vi/-3AGlBYyLjo/default.jpg</td>\n",
       "      <td>6.1</td>\n",
       "      <td>both gone too soon</td>\n",
       "      <td>1</td>\n",
       "      <td>0</td>\n",
       "      <td>24</td>\n",
       "      <td>24</td>\n",
       "      <td>Entertainment</td>\n",
       "      <td>24</td>\n",
       "    </tr>\n",
       "    <tr>\n",
       "      <th>9344</th>\n",
       "      <td>-3AGlBYyLjo</td>\n",
       "      <td>Best Tom Petty Interview Ever</td>\n",
       "      <td>CrazyLaughAction</td>\n",
       "      <td>24</td>\n",
       "      <td>tom|petty|tom petty|Tom Petty|Tom Petty (Music...</td>\n",
       "      <td>2143</td>\n",
       "      <td>16</td>\n",
       "      <td>2</td>\n",
       "      <td>4</td>\n",
       "      <td>https://i.ytimg.com/vi/-3AGlBYyLjo/default.jpg</td>\n",
       "      <td>6.1</td>\n",
       "      <td>Chain smoking is bad for your health.</td>\n",
       "      <td>1</td>\n",
       "      <td>0</td>\n",
       "      <td>24</td>\n",
       "      <td>24</td>\n",
       "      <td>Entertainment</td>\n",
       "      <td>24</td>\n",
       "    </tr>\n",
       "    <tr>\n",
       "      <th>9345</th>\n",
       "      <td>-5sCWsLlTCI</td>\n",
       "      <td>SNL Host Kumail Nanjiani and P!nk Share Favori...</td>\n",
       "      <td>Saturday Night Live</td>\n",
       "      <td>24</td>\n",
       "      <td>saturday night live|snl|snl season 43|kumail n...</td>\n",
       "      <td>85052</td>\n",
       "      <td>1458</td>\n",
       "      <td>97</td>\n",
       "      <td>132</td>\n",
       "      <td>https://i.ytimg.com/vi/-5sCWsLlTCI/default.jpg</td>\n",
       "      <td>14</td>\n",
       "      <td>Week 1: Kate puts her face in Ryan Gosling's a...</td>\n",
       "      <td>205</td>\n",
       "      <td>6</td>\n",
       "      <td>24</td>\n",
       "      <td>24</td>\n",
       "      <td>Entertainment</td>\n",
       "      <td>24</td>\n",
       "    </tr>\n",
       "  </tbody>\n",
       "</table>\n",
       "</div>"
      ],
      "text/plain": [
       "         video_id                                            title_x  \\\n",
       "9341  -3AGlBYyLjo                      Best Tom Petty Interview Ever   \n",
       "9342  -3AGlBYyLjo                      Best Tom Petty Interview Ever   \n",
       "9343  -3AGlBYyLjo                      Best Tom Petty Interview Ever   \n",
       "9344  -3AGlBYyLjo                      Best Tom Petty Interview Ever   \n",
       "9345  -5sCWsLlTCI  SNL Host Kumail Nanjiani and P!nk Share Favori...   \n",
       "\n",
       "            channel_title  category_id  \\\n",
       "9341     CrazyLaughAction           24   \n",
       "9342     CrazyLaughAction           24   \n",
       "9343     CrazyLaughAction           24   \n",
       "9344     CrazyLaughAction           24   \n",
       "9345  Saturday Night Live           24   \n",
       "\n",
       "                                                   tags  views  likes_x  \\\n",
       "9341  tom|petty|tom petty|Tom Petty|Tom Petty (Music...   2143       16   \n",
       "9342  tom|petty|tom petty|Tom Petty|Tom Petty (Music...   2143       16   \n",
       "9343  tom|petty|tom petty|Tom Petty|Tom Petty (Music...   2143       16   \n",
       "9344  tom|petty|tom petty|Tom Petty|Tom Petty (Music...   2143       16   \n",
       "9345  saturday night live|snl|snl season 43|kumail n...  85052     1458   \n",
       "\n",
       "      dislikes  comment_total                                  thumbnail_link  \\\n",
       "9341         2              4  https://i.ytimg.com/vi/-3AGlBYyLjo/default.jpg   \n",
       "9342         2              4  https://i.ytimg.com/vi/-3AGlBYyLjo/default.jpg   \n",
       "9343         2              4  https://i.ytimg.com/vi/-3AGlBYyLjo/default.jpg   \n",
       "9344         2              4  https://i.ytimg.com/vi/-3AGlBYyLjo/default.jpg   \n",
       "9345        97            132  https://i.ytimg.com/vi/-5sCWsLlTCI/default.jpg   \n",
       "\n",
       "      date                                       comment_text likes_y replies  \\\n",
       "9341   6.1  Where are the other interviews Gary Chandling ...       0       0   \n",
       "9342   6.1  My god now tom has passed away too....totally ...       0       0   \n",
       "9343   6.1                                 both gone too soon       1       0   \n",
       "9344   6.1              Chain smoking is bad for your health.       1       0   \n",
       "9345    14  Week 1: Kate puts her face in Ryan Gosling's a...     205       6   \n",
       "\n",
       "     category_id_str  id        title_y id_str  \n",
       "9341              24  24  Entertainment     24  \n",
       "9342              24  24  Entertainment     24  \n",
       "9343              24  24  Entertainment     24  \n",
       "9344              24  24  Entertainment     24  \n",
       "9345              24  24  Entertainment     24  "
      ]
     },
     "execution_count": 53,
     "metadata": {},
     "output_type": "execute_result"
    }
   ],
   "source": [
    "vcff.head()"
   ]
  },
  {
   "cell_type": "markdown",
   "metadata": {},
   "source": [
    "#### clean data"
   ]
  },
  {
   "cell_type": "markdown",
   "metadata": {},
   "source": [
    "##### Part1: build an abbreviation map"
   ]
  },
  {
   "cell_type": "code",
   "execution_count": 55,
   "metadata": {},
   "outputs": [],
   "source": [
    "Abbr_dict={}\n",
    "for char in 'abcdefghijklmnopqrstuvwxyz':\n",
    "    URL = 'https://www.noslang.com/dictionary/'+char\n",
    "    page = requests.get(URL)\n",
    "    soup = BeautifulSoup(page.content, 'html.parser')\n",
    "    for i in soup.find_all('div',{'class':'dictionary-word'}):\n",
    "        title_elem = i.find('abbr', class_='dictonary-abbr')\n",
    "        key=title_elem.text[:-2]\n",
    "        value=i.find('abbr')['title']\n",
    "        Abbr_dict[key]=value"
   ]
  },
  {
   "cell_type": "code",
   "execution_count": 59,
   "metadata": {},
   "outputs": [],
   "source": [
    "def corit(string):    \n",
    "    return ' '.join(Abbr_dict.get(word,word) for word in string.split(' '))"
   ]
  },
  {
   "cell_type": "code",
   "execution_count": 60,
   "metadata": {},
   "outputs": [
    {
     "name": "stdout",
     "output_type": "stream",
     "text": [
      "Bro why didnt you give merch to johannes he is your boy 2\n"
     ]
    }
   ],
   "source": [
    "sample= 'Bro y didnt u give merch to johannes he is ur boy 2'\n",
    "print(corit(sample))"
   ]
  },
  {
   "cell_type": "code",
   "execution_count": 61,
   "metadata": {},
   "outputs": [
    {
     "name": "stderr",
     "output_type": "stream",
     "text": [
      "C:\\ProgramData\\Anaconda3\\lib\\site-packages\\ipykernel_launcher.py:2: SettingWithCopyWarning: \n",
      "A value is trying to be set on a copy of a slice from a DataFrame.\n",
      "Try using .loc[row_indexer,col_indexer] = value instead\n",
      "\n",
      "See the caveats in the documentation: https://pandas.pydata.org/pandas-docs/stable/user_guide/indexing.html#returning-a-view-versus-a-copy\n",
      "  \n"
     ]
    }
   ],
   "source": [
    "#replace abbreviation with full word\n",
    "vcff['clean_comment']=vcff['comment_text'].dropna().apply(corit)"
   ]
  },
  {
   "cell_type": "markdown",
   "metadata": {},
   "source": [
    "##### Part2: remove non english words"
   ]
  },
  {
   "cell_type": "code",
   "execution_count": 65,
   "metadata": {},
   "outputs": [],
   "source": [
    "words = set(nltk.corpus.words.words())\n",
    "punc='\"#$%&\\'()*+,-./:;<=>@[\\\\]^_`{|}~\\n?!'"
   ]
  },
  {
   "cell_type": "code",
   "execution_count": 66,
   "metadata": {},
   "outputs": [],
   "source": [
    "def removef(string):\n",
    "    tokens=[w for w in word_tokenize(string.lower()) if w in words or w in punc]\n",
    "    return ' '.join(tokens)"
   ]
  },
  {
   "cell_type": "code",
   "execution_count": 67,
   "metadata": {},
   "outputs": [
    {
     "data": {
      "text/plain": [
       "', live super ! ! ! ! !'"
      ]
     },
     "execution_count": 67,
     "metadata": {},
     "output_type": "execute_result"
    }
   ],
   "source": [
    "sample2='Zajebistaa...jak zawsze,live super!!!!!'\n",
    "removef(sample2)"
   ]
  },
  {
   "cell_type": "code",
   "execution_count": 68,
   "metadata": {},
   "outputs": [
    {
     "name": "stderr",
     "output_type": "stream",
     "text": [
      "C:\\ProgramData\\Anaconda3\\lib\\site-packages\\ipykernel_launcher.py:2: SettingWithCopyWarning: \n",
      "A value is trying to be set on a copy of a slice from a DataFrame.\n",
      "Try using .loc[row_indexer,col_indexer] = value instead\n",
      "\n",
      "See the caveats in the documentation: https://pandas.pydata.org/pandas-docs/stable/user_guide/indexing.html#returning-a-view-versus-a-copy\n",
      "  \n"
     ]
    }
   ],
   "source": [
    "#remove non-English words\n",
    "vcff['clean_Engcomment']=vcff['clean_comment'].dropna().apply(removef)"
   ]
  },
  {
   "cell_type": "code",
   "execution_count": 69,
   "metadata": {},
   "outputs": [
    {
     "data": {
      "text/html": [
       "<div>\n",
       "<style scoped>\n",
       "    .dataframe tbody tr th:only-of-type {\n",
       "        vertical-align: middle;\n",
       "    }\n",
       "\n",
       "    .dataframe tbody tr th {\n",
       "        vertical-align: top;\n",
       "    }\n",
       "\n",
       "    .dataframe thead th {\n",
       "        text-align: right;\n",
       "    }\n",
       "</style>\n",
       "<table border=\"1\" class=\"dataframe\">\n",
       "  <thead>\n",
       "    <tr style=\"text-align: right;\">\n",
       "      <th></th>\n",
       "      <th>video_id</th>\n",
       "      <th>title_x</th>\n",
       "      <th>channel_title</th>\n",
       "      <th>category_id</th>\n",
       "      <th>tags</th>\n",
       "      <th>views</th>\n",
       "      <th>likes_x</th>\n",
       "      <th>dislikes</th>\n",
       "      <th>comment_total</th>\n",
       "      <th>thumbnail_link</th>\n",
       "      <th>date</th>\n",
       "      <th>comment_text</th>\n",
       "      <th>likes_y</th>\n",
       "      <th>replies</th>\n",
       "      <th>category_id_str</th>\n",
       "      <th>id</th>\n",
       "      <th>title_y</th>\n",
       "      <th>id_str</th>\n",
       "      <th>clean_comment</th>\n",
       "      <th>clean_Engcomment</th>\n",
       "    </tr>\n",
       "  </thead>\n",
       "  <tbody>\n",
       "    <tr>\n",
       "      <th>9341</th>\n",
       "      <td>-3AGlBYyLjo</td>\n",
       "      <td>Best Tom Petty Interview Ever</td>\n",
       "      <td>CrazyLaughAction</td>\n",
       "      <td>24</td>\n",
       "      <td>tom|petty|tom petty|Tom Petty|Tom Petty (Music...</td>\n",
       "      <td>2143</td>\n",
       "      <td>16</td>\n",
       "      <td>2</td>\n",
       "      <td>4</td>\n",
       "      <td>https://i.ytimg.com/vi/-3AGlBYyLjo/default.jpg</td>\n",
       "      <td>6.1</td>\n",
       "      <td>Where are the other interviews Gary Chandling ...</td>\n",
       "      <td>0</td>\n",
       "      <td>0</td>\n",
       "      <td>24</td>\n",
       "      <td>24</td>\n",
       "      <td>Entertainment</td>\n",
       "      <td>24</td>\n",
       "      <td>Where are the other interviews Gary Chandling ...</td>\n",
       "      <td>where are the other did ?</td>\n",
       "    </tr>\n",
       "    <tr>\n",
       "      <th>9342</th>\n",
       "      <td>-3AGlBYyLjo</td>\n",
       "      <td>Best Tom Petty Interview Ever</td>\n",
       "      <td>CrazyLaughAction</td>\n",
       "      <td>24</td>\n",
       "      <td>tom|petty|tom petty|Tom Petty|Tom Petty (Music...</td>\n",
       "      <td>2143</td>\n",
       "      <td>16</td>\n",
       "      <td>2</td>\n",
       "      <td>4</td>\n",
       "      <td>https://i.ytimg.com/vi/-3AGlBYyLjo/default.jpg</td>\n",
       "      <td>6.1</td>\n",
       "      <td>My god now tom has passed away too....totally ...</td>\n",
       "      <td>0</td>\n",
       "      <td>0</td>\n",
       "      <td>24</td>\n",
       "      <td>24</td>\n",
       "      <td>Entertainment</td>\n",
       "      <td>24</td>\n",
       "      <td>My god now tom has passed away too....totally ...</td>\n",
       "      <td>my god now away too totally broken i am .</td>\n",
       "    </tr>\n",
       "    <tr>\n",
       "      <th>9343</th>\n",
       "      <td>-3AGlBYyLjo</td>\n",
       "      <td>Best Tom Petty Interview Ever</td>\n",
       "      <td>CrazyLaughAction</td>\n",
       "      <td>24</td>\n",
       "      <td>tom|petty|tom petty|Tom Petty|Tom Petty (Music...</td>\n",
       "      <td>2143</td>\n",
       "      <td>16</td>\n",
       "      <td>2</td>\n",
       "      <td>4</td>\n",
       "      <td>https://i.ytimg.com/vi/-3AGlBYyLjo/default.jpg</td>\n",
       "      <td>6.1</td>\n",
       "      <td>both gone too soon</td>\n",
       "      <td>1</td>\n",
       "      <td>0</td>\n",
       "      <td>24</td>\n",
       "      <td>24</td>\n",
       "      <td>Entertainment</td>\n",
       "      <td>24</td>\n",
       "      <td>both gone too soon</td>\n",
       "      <td>both gone too soon</td>\n",
       "    </tr>\n",
       "    <tr>\n",
       "      <th>9344</th>\n",
       "      <td>-3AGlBYyLjo</td>\n",
       "      <td>Best Tom Petty Interview Ever</td>\n",
       "      <td>CrazyLaughAction</td>\n",
       "      <td>24</td>\n",
       "      <td>tom|petty|tom petty|Tom Petty|Tom Petty (Music...</td>\n",
       "      <td>2143</td>\n",
       "      <td>16</td>\n",
       "      <td>2</td>\n",
       "      <td>4</td>\n",
       "      <td>https://i.ytimg.com/vi/-3AGlBYyLjo/default.jpg</td>\n",
       "      <td>6.1</td>\n",
       "      <td>Chain smoking is bad for your health.</td>\n",
       "      <td>1</td>\n",
       "      <td>0</td>\n",
       "      <td>24</td>\n",
       "      <td>24</td>\n",
       "      <td>Entertainment</td>\n",
       "      <td>24</td>\n",
       "      <td>Chain smoking is bad for your health.</td>\n",
       "      <td>chain smoking is bad for your health .</td>\n",
       "    </tr>\n",
       "    <tr>\n",
       "      <th>9345</th>\n",
       "      <td>-5sCWsLlTCI</td>\n",
       "      <td>SNL Host Kumail Nanjiani and P!nk Share Favori...</td>\n",
       "      <td>Saturday Night Live</td>\n",
       "      <td>24</td>\n",
       "      <td>saturday night live|snl|snl season 43|kumail n...</td>\n",
       "      <td>85052</td>\n",
       "      <td>1458</td>\n",
       "      <td>97</td>\n",
       "      <td>132</td>\n",
       "      <td>https://i.ytimg.com/vi/-5sCWsLlTCI/default.jpg</td>\n",
       "      <td>14</td>\n",
       "      <td>Week 1: Kate puts her face in Ryan Gosling's a...</td>\n",
       "      <td>205</td>\n",
       "      <td>6</td>\n",
       "      <td>24</td>\n",
       "      <td>24</td>\n",
       "      <td>Entertainment</td>\n",
       "      <td>24</td>\n",
       "      <td>Week 1: Kate puts her face in Ryan Gosling's a...</td>\n",
       "      <td>week : her face in gosling : she out with gal ...</td>\n",
       "    </tr>\n",
       "  </tbody>\n",
       "</table>\n",
       "</div>"
      ],
      "text/plain": [
       "         video_id                                            title_x  \\\n",
       "9341  -3AGlBYyLjo                      Best Tom Petty Interview Ever   \n",
       "9342  -3AGlBYyLjo                      Best Tom Petty Interview Ever   \n",
       "9343  -3AGlBYyLjo                      Best Tom Petty Interview Ever   \n",
       "9344  -3AGlBYyLjo                      Best Tom Petty Interview Ever   \n",
       "9345  -5sCWsLlTCI  SNL Host Kumail Nanjiani and P!nk Share Favori...   \n",
       "\n",
       "            channel_title  category_id  \\\n",
       "9341     CrazyLaughAction           24   \n",
       "9342     CrazyLaughAction           24   \n",
       "9343     CrazyLaughAction           24   \n",
       "9344     CrazyLaughAction           24   \n",
       "9345  Saturday Night Live           24   \n",
       "\n",
       "                                                   tags  views  likes_x  \\\n",
       "9341  tom|petty|tom petty|Tom Petty|Tom Petty (Music...   2143       16   \n",
       "9342  tom|petty|tom petty|Tom Petty|Tom Petty (Music...   2143       16   \n",
       "9343  tom|petty|tom petty|Tom Petty|Tom Petty (Music...   2143       16   \n",
       "9344  tom|petty|tom petty|Tom Petty|Tom Petty (Music...   2143       16   \n",
       "9345  saturday night live|snl|snl season 43|kumail n...  85052     1458   \n",
       "\n",
       "      dislikes  comment_total                                  thumbnail_link  \\\n",
       "9341         2              4  https://i.ytimg.com/vi/-3AGlBYyLjo/default.jpg   \n",
       "9342         2              4  https://i.ytimg.com/vi/-3AGlBYyLjo/default.jpg   \n",
       "9343         2              4  https://i.ytimg.com/vi/-3AGlBYyLjo/default.jpg   \n",
       "9344         2              4  https://i.ytimg.com/vi/-3AGlBYyLjo/default.jpg   \n",
       "9345        97            132  https://i.ytimg.com/vi/-5sCWsLlTCI/default.jpg   \n",
       "\n",
       "      date                                       comment_text likes_y replies  \\\n",
       "9341   6.1  Where are the other interviews Gary Chandling ...       0       0   \n",
       "9342   6.1  My god now tom has passed away too....totally ...       0       0   \n",
       "9343   6.1                                 both gone too soon       1       0   \n",
       "9344   6.1              Chain smoking is bad for your health.       1       0   \n",
       "9345    14  Week 1: Kate puts her face in Ryan Gosling's a...     205       6   \n",
       "\n",
       "     category_id_str  id        title_y id_str  \\\n",
       "9341              24  24  Entertainment     24   \n",
       "9342              24  24  Entertainment     24   \n",
       "9343              24  24  Entertainment     24   \n",
       "9344              24  24  Entertainment     24   \n",
       "9345              24  24  Entertainment     24   \n",
       "\n",
       "                                          clean_comment  \\\n",
       "9341  Where are the other interviews Gary Chandling ...   \n",
       "9342  My god now tom has passed away too....totally ...   \n",
       "9343                                 both gone too soon   \n",
       "9344              Chain smoking is bad for your health.   \n",
       "9345  Week 1: Kate puts her face in Ryan Gosling's a...   \n",
       "\n",
       "                                       clean_Engcomment  \n",
       "9341                          where are the other did ?  \n",
       "9342          my god now away too totally broken i am .  \n",
       "9343                                 both gone too soon  \n",
       "9344             chain smoking is bad for your health .  \n",
       "9345  week : her face in gosling : she out with gal ...  "
      ]
     },
     "execution_count": 69,
     "metadata": {},
     "output_type": "execute_result"
    }
   ],
   "source": [
    "vcff.head()"
   ]
  },
  {
   "cell_type": "markdown",
   "metadata": {},
   "source": [
    "#### Sentiment score analysis"
   ]
  },
  {
   "cell_type": "code",
   "execution_count": 71,
   "metadata": {},
   "outputs": [],
   "source": [
    "#define function to get sentiment score including positive negative neutral compound scores\n",
    "def setPolarity(a):\n",
    "    score=sid.polarity_scores(a)\n",
    "    return score"
   ]
  },
  {
   "cell_type": "code",
   "execution_count": 72,
   "metadata": {},
   "outputs": [
    {
     "name": "stderr",
     "output_type": "stream",
     "text": [
      "C:\\ProgramData\\Anaconda3\\lib\\site-packages\\ipykernel_launcher.py:1: SettingWithCopyWarning: \n",
      "A value is trying to be set on a copy of a slice from a DataFrame.\n",
      "Try using .loc[row_indexer,col_indexer] = value instead\n",
      "\n",
      "See the caveats in the documentation: https://pandas.pydata.org/pandas-docs/stable/user_guide/indexing.html#returning-a-view-versus-a-copy\n",
      "  \"\"\"Entry point for launching an IPython kernel.\n"
     ]
    }
   ],
   "source": [
    "vcff['P_score']=vcff['clean_Engcomment'].dropna().apply(setPolarity)"
   ]
  },
  {
   "cell_type": "code",
   "execution_count": 73,
   "metadata": {},
   "outputs": [],
   "source": [
    "def getvalue(d):\n",
    "    t=d['neg']\n",
    "    return t\n",
    "def getvalue_p(d):\n",
    "    t=d['pos']\n",
    "    return t\n",
    "def getvalue_neu(d):\n",
    "    t=d['neu']\n",
    "    return t\n",
    "def getvalue_com(d):\n",
    "    t=d['compound']\n",
    "    return t"
   ]
  },
  {
   "cell_type": "code",
   "execution_count": 74,
   "metadata": {},
   "outputs": [
    {
     "name": "stderr",
     "output_type": "stream",
     "text": [
      "C:\\ProgramData\\Anaconda3\\lib\\site-packages\\ipykernel_launcher.py:1: SettingWithCopyWarning: \n",
      "A value is trying to be set on a copy of a slice from a DataFrame.\n",
      "Try using .loc[row_indexer,col_indexer] = value instead\n",
      "\n",
      "See the caveats in the documentation: https://pandas.pydata.org/pandas-docs/stable/user_guide/indexing.html#returning-a-view-versus-a-copy\n",
      "  \"\"\"Entry point for launching an IPython kernel.\n",
      "C:\\ProgramData\\Anaconda3\\lib\\site-packages\\ipykernel_launcher.py:2: SettingWithCopyWarning: \n",
      "A value is trying to be set on a copy of a slice from a DataFrame.\n",
      "Try using .loc[row_indexer,col_indexer] = value instead\n",
      "\n",
      "See the caveats in the documentation: https://pandas.pydata.org/pandas-docs/stable/user_guide/indexing.html#returning-a-view-versus-a-copy\n",
      "  \n",
      "C:\\ProgramData\\Anaconda3\\lib\\site-packages\\ipykernel_launcher.py:3: SettingWithCopyWarning: \n",
      "A value is trying to be set on a copy of a slice from a DataFrame.\n",
      "Try using .loc[row_indexer,col_indexer] = value instead\n",
      "\n",
      "See the caveats in the documentation: https://pandas.pydata.org/pandas-docs/stable/user_guide/indexing.html#returning-a-view-versus-a-copy\n",
      "  This is separate from the ipykernel package so we can avoid doing imports until\n",
      "C:\\ProgramData\\Anaconda3\\lib\\site-packages\\ipykernel_launcher.py:4: SettingWithCopyWarning: \n",
      "A value is trying to be set on a copy of a slice from a DataFrame.\n",
      "Try using .loc[row_indexer,col_indexer] = value instead\n",
      "\n",
      "See the caveats in the documentation: https://pandas.pydata.org/pandas-docs/stable/user_guide/indexing.html#returning-a-view-versus-a-copy\n",
      "  after removing the cwd from sys.path.\n"
     ]
    }
   ],
   "source": [
    "vcff['P_score_neg']=vcff['P_score'].dropna().apply(getvalue)\n",
    "vcff['P_score_pos']=vcff['P_score'].dropna().apply(getvalue_p)\n",
    "vcff['P_score_neu']=vcff['P_score'].dropna().apply(getvalue_neu)\n",
    "vcff['P_score_com']=vcff['P_score'].dropna().apply(getvalue_com)"
   ]
  },
  {
   "cell_type": "code",
   "execution_count": 76,
   "metadata": {},
   "outputs": [
    {
     "name": "stderr",
     "output_type": "stream",
     "text": [
      "C:\\ProgramData\\Anaconda3\\lib\\site-packages\\ipykernel_launcher.py:2: SettingWithCopyWarning: \n",
      "A value is trying to be set on a copy of a slice from a DataFrame.\n",
      "Try using .loc[row_indexer,col_indexer] = value instead\n",
      "\n",
      "See the caveats in the documentation: https://pandas.pydata.org/pandas-docs/stable/user_guide/indexing.html#returning-a-view-versus-a-copy\n",
      "  \n"
     ]
    }
   ],
   "source": [
    "#calculate video title sentiment score\n",
    "vcff['video_title_score']=vcff['title_x'].dropna().apply(setPolarity)"
   ]
  },
  {
   "cell_type": "code",
   "execution_count": 77,
   "metadata": {},
   "outputs": [
    {
     "name": "stderr",
     "output_type": "stream",
     "text": [
      "C:\\ProgramData\\Anaconda3\\lib\\site-packages\\ipykernel_launcher.py:2: SettingWithCopyWarning: \n",
      "A value is trying to be set on a copy of a slice from a DataFrame.\n",
      "Try using .loc[row_indexer,col_indexer] = value instead\n",
      "\n",
      "See the caveats in the documentation: https://pandas.pydata.org/pandas-docs/stable/user_guide/indexing.html#returning-a-view-versus-a-copy\n",
      "  \n"
     ]
    }
   ],
   "source": [
    "#compond score of video title\n",
    "vcff['video_title_compond_s']=vcff['video_title_score'].dropna().apply(getvalue_com)"
   ]
  },
  {
   "cell_type": "code",
   "execution_count": 78,
   "metadata": {},
   "outputs": [
    {
     "name": "stderr",
     "output_type": "stream",
     "text": [
      "C:\\ProgramData\\Anaconda3\\lib\\site-packages\\ipykernel_launcher.py:2: SettingWithCopyWarning: \n",
      "A value is trying to be set on a copy of a slice from a DataFrame.\n",
      "Try using .loc[row_indexer,col_indexer] = value instead\n",
      "\n",
      "See the caveats in the documentation: https://pandas.pydata.org/pandas-docs/stable/user_guide/indexing.html#returning-a-view-versus-a-copy\n",
      "  \n"
     ]
    }
   ],
   "source": [
    "#calculate number of tag\n",
    "vcff['num_tags']=vcff['tags'].apply(lambda x: len(x.split('|')))"
   ]
  },
  {
   "cell_type": "code",
   "execution_count": 79,
   "metadata": {},
   "outputs": [],
   "source": [
    "reg_d=vcff[['video_id','video_title_compond_s','num_tags','views','likes_x','dislikes','comment_total','replies','P_score_com','P_score_neg', 'P_score_pos', 'P_score_neu']]"
   ]
  },
  {
   "cell_type": "code",
   "execution_count": 80,
   "metadata": {},
   "outputs": [
    {
     "data": {
      "text/html": [
       "<div>\n",
       "<style scoped>\n",
       "    .dataframe tbody tr th:only-of-type {\n",
       "        vertical-align: middle;\n",
       "    }\n",
       "\n",
       "    .dataframe tbody tr th {\n",
       "        vertical-align: top;\n",
       "    }\n",
       "\n",
       "    .dataframe thead th {\n",
       "        text-align: right;\n",
       "    }\n",
       "</style>\n",
       "<table border=\"1\" class=\"dataframe\">\n",
       "  <thead>\n",
       "    <tr style=\"text-align: right;\">\n",
       "      <th></th>\n",
       "      <th>video_id</th>\n",
       "      <th>video_title_compond_s</th>\n",
       "      <th>num_tags</th>\n",
       "      <th>views</th>\n",
       "      <th>likes_x</th>\n",
       "      <th>dislikes</th>\n",
       "      <th>comment_total</th>\n",
       "      <th>replies</th>\n",
       "      <th>P_score_com</th>\n",
       "      <th>P_score_neg</th>\n",
       "      <th>P_score_pos</th>\n",
       "      <th>P_score_neu</th>\n",
       "    </tr>\n",
       "  </thead>\n",
       "  <tbody>\n",
       "    <tr>\n",
       "      <th>9341</th>\n",
       "      <td>-3AGlBYyLjo</td>\n",
       "      <td>0.53</td>\n",
       "      <td>6</td>\n",
       "      <td>2143</td>\n",
       "      <td>16</td>\n",
       "      <td>2</td>\n",
       "      <td>4</td>\n",
       "      <td>0</td>\n",
       "      <td>0</td>\n",
       "      <td>0</td>\n",
       "      <td>0</td>\n",
       "      <td>1</td>\n",
       "    </tr>\n",
       "    <tr>\n",
       "      <th>9342</th>\n",
       "      <td>-3AGlBYyLjo</td>\n",
       "      <td>0.53</td>\n",
       "      <td>6</td>\n",
       "      <td>2143</td>\n",
       "      <td>16</td>\n",
       "      <td>2</td>\n",
       "      <td>4</td>\n",
       "      <td>0</td>\n",
       "      <td>-0.32</td>\n",
       "      <td>0.29</td>\n",
       "      <td>0.18</td>\n",
       "      <td>0.52</td>\n",
       "    </tr>\n",
       "    <tr>\n",
       "      <th>9343</th>\n",
       "      <td>-3AGlBYyLjo</td>\n",
       "      <td>0.53</td>\n",
       "      <td>6</td>\n",
       "      <td>2143</td>\n",
       "      <td>16</td>\n",
       "      <td>2</td>\n",
       "      <td>4</td>\n",
       "      <td>0</td>\n",
       "      <td>0</td>\n",
       "      <td>0</td>\n",
       "      <td>0</td>\n",
       "      <td>1</td>\n",
       "    </tr>\n",
       "    <tr>\n",
       "      <th>9344</th>\n",
       "      <td>-3AGlBYyLjo</td>\n",
       "      <td>0.53</td>\n",
       "      <td>6</td>\n",
       "      <td>2143</td>\n",
       "      <td>16</td>\n",
       "      <td>2</td>\n",
       "      <td>4</td>\n",
       "      <td>0</td>\n",
       "      <td>-0.54</td>\n",
       "      <td>0.37</td>\n",
       "      <td>0</td>\n",
       "      <td>0.63</td>\n",
       "    </tr>\n",
       "    <tr>\n",
       "      <th>9345</th>\n",
       "      <td>-5sCWsLlTCI</td>\n",
       "      <td>0.67</td>\n",
       "      <td>32</td>\n",
       "      <td>85052</td>\n",
       "      <td>1458</td>\n",
       "      <td>97</td>\n",
       "      <td>132</td>\n",
       "      <td>6</td>\n",
       "      <td>0</td>\n",
       "      <td>0</td>\n",
       "      <td>0</td>\n",
       "      <td>1</td>\n",
       "    </tr>\n",
       "  </tbody>\n",
       "</table>\n",
       "</div>"
      ],
      "text/plain": [
       "         video_id  video_title_compond_s  num_tags  views  likes_x  dislikes  \\\n",
       "9341  -3AGlBYyLjo                   0.53         6   2143       16         2   \n",
       "9342  -3AGlBYyLjo                   0.53         6   2143       16         2   \n",
       "9343  -3AGlBYyLjo                   0.53         6   2143       16         2   \n",
       "9344  -3AGlBYyLjo                   0.53         6   2143       16         2   \n",
       "9345  -5sCWsLlTCI                   0.67        32  85052     1458        97   \n",
       "\n",
       "      comment_total replies  P_score_com  P_score_neg  P_score_pos  \\\n",
       "9341              4       0            0            0            0   \n",
       "9342              4       0        -0.32         0.29         0.18   \n",
       "9343              4       0            0            0            0   \n",
       "9344              4       0        -0.54         0.37            0   \n",
       "9345            132       6            0            0            0   \n",
       "\n",
       "      P_score_neu  \n",
       "9341            1  \n",
       "9342         0.52  \n",
       "9343            1  \n",
       "9344         0.63  \n",
       "9345            1  "
      ]
     },
     "execution_count": 80,
     "metadata": {},
     "output_type": "execute_result"
    }
   ],
   "source": [
    "reg_d.head()"
   ]
  },
  {
   "cell_type": "code",
   "execution_count": 81,
   "metadata": {},
   "outputs": [],
   "source": [
    "# clean data for poisson regression\n",
    "reg_d=reg_d[reg_d.replies!='replies']\n",
    "reg_d['replies']=reg_d.replies.astype(int)"
   ]
  },
  {
   "cell_type": "code",
   "execution_count": 82,
   "metadata": {},
   "outputs": [
    {
     "data": {
      "text/plain": [
       "video_id                  object\n",
       "video_title_compond_s    float64\n",
       "num_tags                   int64\n",
       "views                      int64\n",
       "likes_x                    int64\n",
       "dislikes                   int64\n",
       "comment_total              int64\n",
       "replies                    int32\n",
       "P_score_com              float64\n",
       "P_score_neg              float64\n",
       "P_score_pos              float64\n",
       "P_score_neu              float64\n",
       "dtype: object"
      ]
     },
     "execution_count": 82,
     "metadata": {},
     "output_type": "execute_result"
    }
   ],
   "source": [
    "reg_d.dtypes"
   ]
  },
  {
   "cell_type": "code",
   "execution_count": 83,
   "metadata": {},
   "outputs": [],
   "source": [
    "reg_d=reg_d.dropna()"
   ]
  },
  {
   "cell_type": "code",
   "execution_count": 102,
   "metadata": {},
   "outputs": [
    {
     "data": {
      "text/html": [
       "<div>\n",
       "<style scoped>\n",
       "    .dataframe tbody tr th:only-of-type {\n",
       "        vertical-align: middle;\n",
       "    }\n",
       "\n",
       "    .dataframe tbody tr th {\n",
       "        vertical-align: top;\n",
       "    }\n",
       "\n",
       "    .dataframe thead th {\n",
       "        text-align: right;\n",
       "    }\n",
       "</style>\n",
       "<table border=\"1\" class=\"dataframe\">\n",
       "  <thead>\n",
       "    <tr style=\"text-align: right;\">\n",
       "      <th></th>\n",
       "      <th>video_id</th>\n",
       "      <th>video_title_compond_s</th>\n",
       "      <th>num_tags</th>\n",
       "      <th>views</th>\n",
       "      <th>likes_x</th>\n",
       "      <th>dislikes</th>\n",
       "      <th>comment_total</th>\n",
       "      <th>replies</th>\n",
       "      <th>P_score_com</th>\n",
       "      <th>P_score_neg</th>\n",
       "      <th>P_score_pos</th>\n",
       "      <th>P_score_neu</th>\n",
       "    </tr>\n",
       "  </thead>\n",
       "  <tbody>\n",
       "    <tr>\n",
       "      <th>9341</th>\n",
       "      <td>-3AGlBYyLjo</td>\n",
       "      <td>0.53</td>\n",
       "      <td>6</td>\n",
       "      <td>2143</td>\n",
       "      <td>16</td>\n",
       "      <td>2</td>\n",
       "      <td>4</td>\n",
       "      <td>0</td>\n",
       "      <td>0</td>\n",
       "      <td>0</td>\n",
       "      <td>0</td>\n",
       "      <td>1</td>\n",
       "    </tr>\n",
       "    <tr>\n",
       "      <th>9342</th>\n",
       "      <td>-3AGlBYyLjo</td>\n",
       "      <td>0.53</td>\n",
       "      <td>6</td>\n",
       "      <td>2143</td>\n",
       "      <td>16</td>\n",
       "      <td>2</td>\n",
       "      <td>4</td>\n",
       "      <td>0</td>\n",
       "      <td>-0.32</td>\n",
       "      <td>0.29</td>\n",
       "      <td>0.18</td>\n",
       "      <td>0.52</td>\n",
       "    </tr>\n",
       "    <tr>\n",
       "      <th>9343</th>\n",
       "      <td>-3AGlBYyLjo</td>\n",
       "      <td>0.53</td>\n",
       "      <td>6</td>\n",
       "      <td>2143</td>\n",
       "      <td>16</td>\n",
       "      <td>2</td>\n",
       "      <td>4</td>\n",
       "      <td>0</td>\n",
       "      <td>0</td>\n",
       "      <td>0</td>\n",
       "      <td>0</td>\n",
       "      <td>1</td>\n",
       "    </tr>\n",
       "    <tr>\n",
       "      <th>9344</th>\n",
       "      <td>-3AGlBYyLjo</td>\n",
       "      <td>0.53</td>\n",
       "      <td>6</td>\n",
       "      <td>2143</td>\n",
       "      <td>16</td>\n",
       "      <td>2</td>\n",
       "      <td>4</td>\n",
       "      <td>0</td>\n",
       "      <td>-0.54</td>\n",
       "      <td>0.37</td>\n",
       "      <td>0</td>\n",
       "      <td>0.63</td>\n",
       "    </tr>\n",
       "    <tr>\n",
       "      <th>9345</th>\n",
       "      <td>-5sCWsLlTCI</td>\n",
       "      <td>0.67</td>\n",
       "      <td>32</td>\n",
       "      <td>85052</td>\n",
       "      <td>1458</td>\n",
       "      <td>97</td>\n",
       "      <td>132</td>\n",
       "      <td>6</td>\n",
       "      <td>0</td>\n",
       "      <td>0</td>\n",
       "      <td>0</td>\n",
       "      <td>1</td>\n",
       "    </tr>\n",
       "  </tbody>\n",
       "</table>\n",
       "</div>"
      ],
      "text/plain": [
       "         video_id  video_title_compond_s  num_tags  views  likes_x  dislikes  \\\n",
       "9341  -3AGlBYyLjo                   0.53         6   2143       16         2   \n",
       "9342  -3AGlBYyLjo                   0.53         6   2143       16         2   \n",
       "9343  -3AGlBYyLjo                   0.53         6   2143       16         2   \n",
       "9344  -3AGlBYyLjo                   0.53         6   2143       16         2   \n",
       "9345  -5sCWsLlTCI                   0.67        32  85052     1458        97   \n",
       "\n",
       "      comment_total  replies  P_score_com  P_score_neg  P_score_pos  \\\n",
       "9341              4        0            0            0            0   \n",
       "9342              4        0        -0.32         0.29         0.18   \n",
       "9343              4        0            0            0            0   \n",
       "9344              4        0        -0.54         0.37            0   \n",
       "9345            132        6            0            0            0   \n",
       "\n",
       "      P_score_neu  \n",
       "9341            1  \n",
       "9342         0.52  \n",
       "9343            1  \n",
       "9344         0.63  \n",
       "9345            1  "
      ]
     },
     "execution_count": 102,
     "metadata": {},
     "output_type": "execute_result"
    }
   ],
   "source": [
    "reg_d.head()"
   ]
  },
  {
   "cell_type": "code",
   "execution_count": 85,
   "metadata": {},
   "outputs": [],
   "source": [
    "# average the sentiment score (other columns will not change)\n",
    "r_avg=reg_d.groupby('video_id').mean()"
   ]
  },
  {
   "cell_type": "code",
   "execution_count": 97,
   "metadata": {},
   "outputs": [],
   "source": [
    "#sum the number replies of comments\n",
    "t=reg_d.groupby('video_id').sum()"
   ]
  },
  {
   "cell_type": "code",
   "execution_count": 98,
   "metadata": {},
   "outputs": [],
   "source": [
    "r_avg['replies_sum']=t['replies']"
   ]
  },
  {
   "cell_type": "code",
   "execution_count": 104,
   "metadata": {},
   "outputs": [],
   "source": [
    "r_avg.drop(\"replies\", axis=1,inplace=True)"
   ]
  },
  {
   "cell_type": "code",
   "execution_count": 105,
   "metadata": {},
   "outputs": [
    {
     "data": {
      "text/plain": [
       "video_title_compond_s    float64\n",
       "num_tags                   int64\n",
       "views                      int64\n",
       "likes_x                    int64\n",
       "dislikes                   int64\n",
       "comment_total              int64\n",
       "P_score_com              float64\n",
       "P_score_neg              float64\n",
       "P_score_pos              float64\n",
       "P_score_neu              float64\n",
       "replies_sum                int32\n",
       "dtype: object"
      ]
     },
     "execution_count": 105,
     "metadata": {},
     "output_type": "execute_result"
    }
   ],
   "source": [
    "r_avg.dtypes"
   ]
  },
  {
   "cell_type": "code",
   "execution_count": 106,
   "metadata": {},
   "outputs": [
    {
     "data": {
      "text/html": [
       "<div>\n",
       "<style scoped>\n",
       "    .dataframe tbody tr th:only-of-type {\n",
       "        vertical-align: middle;\n",
       "    }\n",
       "\n",
       "    .dataframe tbody tr th {\n",
       "        vertical-align: top;\n",
       "    }\n",
       "\n",
       "    .dataframe thead th {\n",
       "        text-align: right;\n",
       "    }\n",
       "</style>\n",
       "<table border=\"1\" class=\"dataframe\">\n",
       "  <thead>\n",
       "    <tr style=\"text-align: right;\">\n",
       "      <th></th>\n",
       "      <th>video_title_compond_s</th>\n",
       "      <th>num_tags</th>\n",
       "      <th>views</th>\n",
       "      <th>likes_x</th>\n",
       "      <th>dislikes</th>\n",
       "      <th>comment_total</th>\n",
       "      <th>P_score_com</th>\n",
       "      <th>P_score_neg</th>\n",
       "      <th>P_score_pos</th>\n",
       "      <th>P_score_neu</th>\n",
       "      <th>replies_sum</th>\n",
       "    </tr>\n",
       "    <tr>\n",
       "      <th>video_id</th>\n",
       "      <th></th>\n",
       "      <th></th>\n",
       "      <th></th>\n",
       "      <th></th>\n",
       "      <th></th>\n",
       "      <th></th>\n",
       "      <th></th>\n",
       "      <th></th>\n",
       "      <th></th>\n",
       "      <th></th>\n",
       "      <th></th>\n",
       "    </tr>\n",
       "  </thead>\n",
       "  <tbody>\n",
       "    <tr>\n",
       "      <th>-3AGlBYyLjo</th>\n",
       "      <td>0.53</td>\n",
       "      <td>6</td>\n",
       "      <td>2143</td>\n",
       "      <td>16</td>\n",
       "      <td>2</td>\n",
       "      <td>4</td>\n",
       "      <td>-0.21</td>\n",
       "      <td>0.17</td>\n",
       "      <td>0.046</td>\n",
       "      <td>0.79</td>\n",
       "      <td>0</td>\n",
       "    </tr>\n",
       "    <tr>\n",
       "      <th>-5sCWsLlTCI</th>\n",
       "      <td>0.67</td>\n",
       "      <td>32</td>\n",
       "      <td>85052</td>\n",
       "      <td>1458</td>\n",
       "      <td>97</td>\n",
       "      <td>132</td>\n",
       "      <td>0.16</td>\n",
       "      <td>0.063</td>\n",
       "      <td>0.2</td>\n",
       "      <td>0.66</td>\n",
       "      <td>39</td>\n",
       "    </tr>\n",
       "    <tr>\n",
       "      <th>-6Zc8Co2H3w</th>\n",
       "      <td>0.51</td>\n",
       "      <td>15</td>\n",
       "      <td>1956813</td>\n",
       "      <td>49656</td>\n",
       "      <td>1287</td>\n",
       "      <td>6894</td>\n",
       "      <td>0.22</td>\n",
       "      <td>0.049</td>\n",
       "      <td>0.21</td>\n",
       "      <td>0.72</td>\n",
       "      <td>1</td>\n",
       "    </tr>\n",
       "    <tr>\n",
       "      <th>-AJyaVduxCc</th>\n",
       "      <td>0</td>\n",
       "      <td>8</td>\n",
       "      <td>313279</td>\n",
       "      <td>1660</td>\n",
       "      <td>56</td>\n",
       "      <td>123</td>\n",
       "      <td>0.073</td>\n",
       "      <td>0.1</td>\n",
       "      <td>0.13</td>\n",
       "      <td>0.71</td>\n",
       "      <td>590</td>\n",
       "    </tr>\n",
       "    <tr>\n",
       "      <th>-B9z3az6Axc</th>\n",
       "      <td>0</td>\n",
       "      <td>26</td>\n",
       "      <td>106224</td>\n",
       "      <td>10782</td>\n",
       "      <td>224</td>\n",
       "      <td>2154</td>\n",
       "      <td>0.18</td>\n",
       "      <td>0.076</td>\n",
       "      <td>0.21</td>\n",
       "      <td>0.68</td>\n",
       "      <td>79</td>\n",
       "    </tr>\n",
       "  </tbody>\n",
       "</table>\n",
       "</div>"
      ],
      "text/plain": [
       "             video_title_compond_s  num_tags    views  likes_x  dislikes  \\\n",
       "video_id                                                                   \n",
       "-3AGlBYyLjo                   0.53         6     2143       16         2   \n",
       "-5sCWsLlTCI                   0.67        32    85052     1458        97   \n",
       "-6Zc8Co2H3w                   0.51        15  1956813    49656      1287   \n",
       "-AJyaVduxCc                      0         8   313279     1660        56   \n",
       "-B9z3az6Axc                      0        26   106224    10782       224   \n",
       "\n",
       "             comment_total  P_score_com  P_score_neg  P_score_pos  \\\n",
       "video_id                                                            \n",
       "-3AGlBYyLjo              4        -0.21         0.17        0.046   \n",
       "-5sCWsLlTCI            132         0.16        0.063          0.2   \n",
       "-6Zc8Co2H3w           6894         0.22        0.049         0.21   \n",
       "-AJyaVduxCc            123        0.073          0.1         0.13   \n",
       "-B9z3az6Axc           2154         0.18        0.076         0.21   \n",
       "\n",
       "             P_score_neu  replies_sum  \n",
       "video_id                               \n",
       "-3AGlBYyLjo         0.79            0  \n",
       "-5sCWsLlTCI         0.66           39  \n",
       "-6Zc8Co2H3w         0.72            1  \n",
       "-AJyaVduxCc         0.71          590  \n",
       "-B9z3az6Axc         0.68           79  "
      ]
     },
     "execution_count": 106,
     "metadata": {},
     "output_type": "execute_result"
    }
   ],
   "source": [
    "r_avg.head()"
   ]
  },
  {
   "cell_type": "code",
   "execution_count": 107,
   "metadata": {},
   "outputs": [
    {
     "name": "stdout",
     "output_type": "stream",
     "text": [
      "                 Generalized Linear Model Regression Results                  \n",
      "==============================================================================\n",
      "Dep. Variable:                  views   No. Observations:                  268\n",
      "Model:                            GLM   Df Residuals:                      257\n",
      "Model Family:                 Poisson   Df Model:                           10\n",
      "Link Function:                    log   Scale:                          1.0000\n",
      "Method:                          IRLS   Log-Likelihood:            -7.3098e+07\n",
      "Date:                Tue, 09 Mar 2021   Deviance:                   1.4619e+08\n",
      "Time:                        21:59:25   Pearson chi2:                 2.25e+08\n",
      "No. Iterations:                    16                                         \n",
      "Covariance Type:            nonrobust                                         \n",
      "=========================================================================================\n",
      "                            coef    std err          z      P>|z|      [0.025      0.975]\n",
      "-----------------------------------------------------------------------------------------\n",
      "const                    16.3627      0.002   1.04e+04      0.000      16.360      16.366\n",
      "video_title_compond_s     0.5663      0.000   1949.765      0.000       0.566       0.567\n",
      "num_tags                  0.0185   8.11e-06   2285.337      0.000       0.019       0.019\n",
      "likes_x                6.639e-06   1.61e-09   4122.871      0.000    6.64e-06    6.64e-06\n",
      "dislikes              -7.922e-05   2.39e-08  -3313.638      0.000   -7.93e-05   -7.92e-05\n",
      "comment_total          1.661e-05   1.58e-08   1048.546      0.000    1.66e-05    1.66e-05\n",
      "replies_sum               0.0002   1.77e-07    995.703      0.000       0.000       0.000\n",
      "P_score_com               0.0266      0.002     14.594      0.000       0.023       0.030\n",
      "P_score_neg               0.8630      0.003    258.709      0.000       0.856       0.869\n",
      "P_score_pos              -7.1881      0.004  -2050.128      0.000      -7.195      -7.181\n",
      "P_score_neu              -3.8433      0.002  -2192.833      0.000      -3.847      -3.840\n",
      "=========================================================================================\n"
     ]
    }
   ],
   "source": [
    "predictors=['video_title_compond_s','num_tags','likes_x','dislikes','comment_total','replies_sum','P_score_com','P_score_neg', 'P_score_pos', 'P_score_neu']\n",
    "outcome='views'\n",
    "\n",
    "X = r_avg[predictors]\n",
    "y = r_avg[outcome]\n",
    "\n",
    "#split training and testing dataset\n",
    "train_X, valid_X, train_y, valid_y = train_test_split(X, y, test_size=0.2, random_state=1)\n",
    "\n",
    "#build Poisson regression model\n",
    "X3=sm.add_constant(valid_X)\n",
    "est3=sm.GLM(valid_y,X3.astype(float),family=sm.families.Poisson())\n",
    "est4=est3.fit()\n",
    "print(est4.summary())"
   ]
  },
  {
   "cell_type": "code",
   "execution_count": 108,
   "metadata": {},
   "outputs": [],
   "source": [
    "sst_val = sum(map(lambda x: np.power(x,2),y-np.mean(y))) \n",
    "sse_val = sum(map(lambda x: np.power(x,2),est4.resid_response)) \n",
    "r2 = 1.0 - sse_val/sst_val"
   ]
  },
  {
   "cell_type": "code",
   "execution_count": 109,
   "metadata": {},
   "outputs": [
    {
     "data": {
      "text/plain": [
       "0.9545301283378864"
      ]
     },
     "execution_count": 109,
     "metadata": {},
     "output_type": "execute_result"
    }
   ],
   "source": [
    "r2"
   ]
  },
  {
   "cell_type": "code",
   "execution_count": null,
   "metadata": {},
   "outputs": [],
   "source": []
  },
  {
   "cell_type": "code",
   "execution_count": null,
   "metadata": {},
   "outputs": [],
   "source": []
  },
  {
   "cell_type": "code",
   "execution_count": null,
   "metadata": {},
   "outputs": [],
   "source": []
  },
  {
   "cell_type": "code",
   "execution_count": null,
   "metadata": {},
   "outputs": [],
   "source": []
  },
  {
   "cell_type": "code",
   "execution_count": null,
   "metadata": {},
   "outputs": [],
   "source": []
  },
  {
   "cell_type": "code",
   "execution_count": null,
   "metadata": {},
   "outputs": [],
   "source": []
  },
  {
   "cell_type": "code",
   "execution_count": null,
   "metadata": {},
   "outputs": [],
   "source": []
  },
  {
   "cell_type": "code",
   "execution_count": null,
   "metadata": {},
   "outputs": [],
   "source": []
  },
  {
   "cell_type": "code",
   "execution_count": null,
   "metadata": {},
   "outputs": [],
   "source": []
  }
 ],
 "metadata": {
  "kernelspec": {
   "display_name": "Python 3",
   "language": "python",
   "name": "python3"
  },
  "language_info": {
   "codemirror_mode": {
    "name": "ipython",
    "version": 3
   },
   "file_extension": ".py",
   "mimetype": "text/x-python",
   "name": "python",
   "nbconvert_exporter": "python",
   "pygments_lexer": "ipython3",
   "version": "3.8.5"
  }
 },
 "nbformat": 4,
 "nbformat_minor": 4
}
