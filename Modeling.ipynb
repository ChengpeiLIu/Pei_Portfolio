{
 "cells": [
  {
   "cell_type": "code",
   "execution_count": 5,
   "metadata": {},
   "outputs": [],
   "source": [
    "import pandas as pd\n",
    "import matplotlib.pyplot as plt\n",
    "import seaborn as sns\n",
    "import numpy as np\n",
    "import warnings\n",
    "warnings.simplefilter(\"ignore\")"
   ]
  },
  {
   "cell_type": "code",
   "execution_count": 6,
   "metadata": {},
   "outputs": [
    {
     "name": "stderr",
     "output_type": "stream",
     "text": [
      "b'Skipping line 2401: expected 11 fields, saw 21\\nSkipping line 2800: expected 11 fields, saw 21\\nSkipping line 5297: expected 11 fields, saw 12\\nSkipping line 5299: expected 11 fields, saw 12\\nSkipping line 5300: expected 11 fields, saw 12\\nSkipping line 5301: expected 11 fields, saw 12\\n'\n"
     ]
    },
    {
     "data": {
      "text/html": [
       "<div>\n",
       "<style scoped>\n",
       "    .dataframe tbody tr th:only-of-type {\n",
       "        vertical-align: middle;\n",
       "    }\n",
       "\n",
       "    .dataframe tbody tr th {\n",
       "        vertical-align: top;\n",
       "    }\n",
       "\n",
       "    .dataframe thead th {\n",
       "        text-align: right;\n",
       "    }\n",
       "</style>\n",
       "<table border=\"1\" class=\"dataframe\">\n",
       "  <thead>\n",
       "    <tr style=\"text-align: right;\">\n",
       "      <th></th>\n",
       "      <th>video_id</th>\n",
       "      <th>title</th>\n",
       "      <th>channel_title</th>\n",
       "      <th>category_id</th>\n",
       "      <th>tags</th>\n",
       "      <th>views</th>\n",
       "      <th>likes</th>\n",
       "      <th>dislikes</th>\n",
       "      <th>comment_total</th>\n",
       "      <th>thumbnail_link</th>\n",
       "      <th>date</th>\n",
       "    </tr>\n",
       "  </thead>\n",
       "  <tbody>\n",
       "    <tr>\n",
       "      <th>0</th>\n",
       "      <td>XpVt6Z1Gjjo</td>\n",
       "      <td>1 YEAR OF VLOGGING -- HOW LOGAN PAUL CHANGED Y...</td>\n",
       "      <td>Logan Paul Vlogs</td>\n",
       "      <td>24</td>\n",
       "      <td>logan paul vlog|logan paul|logan|paul|olympics...</td>\n",
       "      <td>4394029</td>\n",
       "      <td>320053</td>\n",
       "      <td>5931</td>\n",
       "      <td>46245</td>\n",
       "      <td>https://i.ytimg.com/vi/XpVt6Z1Gjjo/default.jpg</td>\n",
       "      <td>13.09</td>\n",
       "    </tr>\n",
       "    <tr>\n",
       "      <th>1</th>\n",
       "      <td>K4wEI5zhHB0</td>\n",
       "      <td>iPhone X — Introducing iPhone X — Apple</td>\n",
       "      <td>Apple</td>\n",
       "      <td>28</td>\n",
       "      <td>Apple|iPhone 10|iPhone Ten|iPhone|Portrait Lig...</td>\n",
       "      <td>7860119</td>\n",
       "      <td>185853</td>\n",
       "      <td>26679</td>\n",
       "      <td>0</td>\n",
       "      <td>https://i.ytimg.com/vi/K4wEI5zhHB0/default.jpg</td>\n",
       "      <td>13.09</td>\n",
       "    </tr>\n",
       "    <tr>\n",
       "      <th>2</th>\n",
       "      <td>cLdxuaxaQwc</td>\n",
       "      <td>My Response</td>\n",
       "      <td>PewDiePie</td>\n",
       "      <td>22</td>\n",
       "      <td>[none]</td>\n",
       "      <td>5845909</td>\n",
       "      <td>576597</td>\n",
       "      <td>39774</td>\n",
       "      <td>170708</td>\n",
       "      <td>https://i.ytimg.com/vi/cLdxuaxaQwc/default.jpg</td>\n",
       "      <td>13.09</td>\n",
       "    </tr>\n",
       "    <tr>\n",
       "      <th>3</th>\n",
       "      <td>WYYvHb03Eog</td>\n",
       "      <td>Apple iPhone X first look</td>\n",
       "      <td>The Verge</td>\n",
       "      <td>28</td>\n",
       "      <td>apple iphone x hands on|Apple iPhone X|iPhone ...</td>\n",
       "      <td>2642103</td>\n",
       "      <td>24975</td>\n",
       "      <td>4542</td>\n",
       "      <td>12829</td>\n",
       "      <td>https://i.ytimg.com/vi/WYYvHb03Eog/default.jpg</td>\n",
       "      <td>13.09</td>\n",
       "    </tr>\n",
       "    <tr>\n",
       "      <th>4</th>\n",
       "      <td>sjlHnJvXdQs</td>\n",
       "      <td>iPhone X (parody)</td>\n",
       "      <td>jacksfilms</td>\n",
       "      <td>23</td>\n",
       "      <td>jacksfilms|parody|parodies|iphone|iphone x|iph...</td>\n",
       "      <td>1168130</td>\n",
       "      <td>96666</td>\n",
       "      <td>568</td>\n",
       "      <td>6666</td>\n",
       "      <td>https://i.ytimg.com/vi/sjlHnJvXdQs/default.jpg</td>\n",
       "      <td>13.09</td>\n",
       "    </tr>\n",
       "  </tbody>\n",
       "</table>\n",
       "</div>"
      ],
      "text/plain": [
       "      video_id                                              title  \\\n",
       "0  XpVt6Z1Gjjo  1 YEAR OF VLOGGING -- HOW LOGAN PAUL CHANGED Y...   \n",
       "1  K4wEI5zhHB0            iPhone X — Introducing iPhone X — Apple   \n",
       "2  cLdxuaxaQwc                                        My Response   \n",
       "3  WYYvHb03Eog                          Apple iPhone X first look   \n",
       "4  sjlHnJvXdQs                                  iPhone X (parody)   \n",
       "\n",
       "      channel_title  category_id  \\\n",
       "0  Logan Paul Vlogs           24   \n",
       "1             Apple           28   \n",
       "2         PewDiePie           22   \n",
       "3         The Verge           28   \n",
       "4        jacksfilms           23   \n",
       "\n",
       "                                                tags    views   likes  \\\n",
       "0  logan paul vlog|logan paul|logan|paul|olympics...  4394029  320053   \n",
       "1  Apple|iPhone 10|iPhone Ten|iPhone|Portrait Lig...  7860119  185853   \n",
       "2                                             [none]  5845909  576597   \n",
       "3  apple iphone x hands on|Apple iPhone X|iPhone ...  2642103   24975   \n",
       "4  jacksfilms|parody|parodies|iphone|iphone x|iph...  1168130   96666   \n",
       "\n",
       "   dislikes  comment_total                                  thumbnail_link  \\\n",
       "0      5931          46245  https://i.ytimg.com/vi/XpVt6Z1Gjjo/default.jpg   \n",
       "1     26679              0  https://i.ytimg.com/vi/K4wEI5zhHB0/default.jpg   \n",
       "2     39774         170708  https://i.ytimg.com/vi/cLdxuaxaQwc/default.jpg   \n",
       "3      4542          12829  https://i.ytimg.com/vi/WYYvHb03Eog/default.jpg   \n",
       "4       568           6666  https://i.ytimg.com/vi/sjlHnJvXdQs/default.jpg   \n",
       "\n",
       "    date  \n",
       "0  13.09  \n",
       "1  13.09  \n",
       "2  13.09  \n",
       "3  13.09  \n",
       "4  13.09  "
      ]
     },
     "execution_count": 6,
     "metadata": {},
     "output_type": "execute_result"
    }
   ],
   "source": [
    "us=pd.read_csv('Old_USvideos.csv',error_bad_lines=False)\n",
    "us.head()"
   ]
  },
  {
   "cell_type": "code",
   "execution_count": 7,
   "metadata": {},
   "outputs": [],
   "source": [
    "us.sort_values('date', ascending=False, inplace=True)"
   ]
  },
  {
   "cell_type": "code",
   "execution_count": 8,
   "metadata": {},
   "outputs": [],
   "source": [
    "us.drop_duplicates('video_id', keep = 'first', inplace = True)"
   ]
  },
  {
   "cell_type": "code",
   "execution_count": 9,
   "metadata": {},
   "outputs": [
    {
     "data": {
      "text/plain": [
       "(2364, 11)"
      ]
     },
     "execution_count": 9,
     "metadata": {},
     "output_type": "execute_result"
    }
   ],
   "source": [
    "us.shape"
   ]
  },
  {
   "cell_type": "code",
   "execution_count": 10,
   "metadata": {},
   "outputs": [
    {
     "data": {
      "text/html": [
       "<div>\n",
       "<style scoped>\n",
       "    .dataframe tbody tr th:only-of-type {\n",
       "        vertical-align: middle;\n",
       "    }\n",
       "\n",
       "    .dataframe tbody tr th {\n",
       "        vertical-align: top;\n",
       "    }\n",
       "\n",
       "    .dataframe thead th {\n",
       "        text-align: right;\n",
       "    }\n",
       "</style>\n",
       "<table border=\"1\" class=\"dataframe\">\n",
       "  <thead>\n",
       "    <tr style=\"text-align: right;\">\n",
       "      <th></th>\n",
       "      <th>video_id</th>\n",
       "      <th>title</th>\n",
       "      <th>channel_title</th>\n",
       "      <th>category_id</th>\n",
       "      <th>tags</th>\n",
       "      <th>views</th>\n",
       "      <th>likes</th>\n",
       "      <th>dislikes</th>\n",
       "      <th>comment_total</th>\n",
       "      <th>thumbnail_link</th>\n",
       "      <th>date</th>\n",
       "      <th>category</th>\n",
       "    </tr>\n",
       "  </thead>\n",
       "  <tbody>\n",
       "    <tr>\n",
       "      <th>0</th>\n",
       "      <td>tqUKbEfW-B8</td>\n",
       "      <td>IGN Live: Red Dead Redemption 2 Trailer Reveal</td>\n",
       "      <td>IGN</td>\n",
       "      <td>20</td>\n",
       "      <td>ign|Feature|PS4|Red Dead Redemption 2|games|Ac...</td>\n",
       "      <td>302270</td>\n",
       "      <td>6164</td>\n",
       "      <td>669</td>\n",
       "      <td>609</td>\n",
       "      <td>https://i.ytimg.com/vi/tqUKbEfW-B8/default.jpg</td>\n",
       "      <td>30.09</td>\n",
       "      <td>Gaming</td>\n",
       "    </tr>\n",
       "    <tr>\n",
       "      <th>1</th>\n",
       "      <td>SNGWh_-R1VE</td>\n",
       "      <td>This is Star Wars Battlefront 2</td>\n",
       "      <td>EA Star Wars</td>\n",
       "      <td>20</td>\n",
       "      <td>this is star wars|this is battlefront|this is ...</td>\n",
       "      <td>3384577</td>\n",
       "      <td>121972</td>\n",
       "      <td>3291</td>\n",
       "      <td>23436</td>\n",
       "      <td>https://i.ytimg.com/vi/SNGWh_-R1VE/default.jpg</td>\n",
       "      <td>30.09</td>\n",
       "      <td>Gaming</td>\n",
       "    </tr>\n",
       "    <tr>\n",
       "      <th>2</th>\n",
       "      <td>Y12lF3cYufo</td>\n",
       "      <td>Clash of Clans - Builder Hall 7 UPDATE!</td>\n",
       "      <td>Clash of Clans</td>\n",
       "      <td>20</td>\n",
       "      <td>clash of clans|COC|Clash of Clans Gameplay|Cla...</td>\n",
       "      <td>1847810</td>\n",
       "      <td>45150</td>\n",
       "      <td>2633</td>\n",
       "      <td>2038</td>\n",
       "      <td>https://i.ytimg.com/vi/Y12lF3cYufo/default.jpg</td>\n",
       "      <td>30.09</td>\n",
       "      <td>Gaming</td>\n",
       "    </tr>\n",
       "    <tr>\n",
       "      <th>3</th>\n",
       "      <td>lw-Xu7ZLD3w</td>\n",
       "      <td>Clash of Clans: Builder Hall 7 Update Coming S...</td>\n",
       "      <td>Clash of Clans</td>\n",
       "      <td>20</td>\n",
       "      <td>clash of clans|COC|Clash of Clans Gameplay|Cla...</td>\n",
       "      <td>2785219</td>\n",
       "      <td>52036</td>\n",
       "      <td>2316</td>\n",
       "      <td>5828</td>\n",
       "      <td>https://i.ytimg.com/vi/lw-Xu7ZLD3w/default.jpg</td>\n",
       "      <td>29.09</td>\n",
       "      <td>Gaming</td>\n",
       "    </tr>\n",
       "    <tr>\n",
       "      <th>4</th>\n",
       "      <td>A9U5wK_boYM</td>\n",
       "      <td>How I Fixed a 10 Year Old Guitar Hero Bug With...</td>\n",
       "      <td>ExileLord</td>\n",
       "      <td>20</td>\n",
       "      <td>Guitar Hero III: Legends of Rock|Guitar Hero|H...</td>\n",
       "      <td>87076</td>\n",
       "      <td>3518</td>\n",
       "      <td>21</td>\n",
       "      <td>227</td>\n",
       "      <td>https://i.ytimg.com/vi/A9U5wK_boYM/default.jpg</td>\n",
       "      <td>28.09</td>\n",
       "      <td>Gaming</td>\n",
       "    </tr>\n",
       "  </tbody>\n",
       "</table>\n",
       "</div>"
      ],
      "text/plain": [
       "      video_id                                              title  \\\n",
       "0  tqUKbEfW-B8     IGN Live: Red Dead Redemption 2 Trailer Reveal   \n",
       "1  SNGWh_-R1VE                    This is Star Wars Battlefront 2   \n",
       "2  Y12lF3cYufo            Clash of Clans - Builder Hall 7 UPDATE!   \n",
       "3  lw-Xu7ZLD3w  Clash of Clans: Builder Hall 7 Update Coming S...   \n",
       "4  A9U5wK_boYM  How I Fixed a 10 Year Old Guitar Hero Bug With...   \n",
       "\n",
       "    channel_title  category_id  \\\n",
       "0             IGN           20   \n",
       "1    EA Star Wars           20   \n",
       "2  Clash of Clans           20   \n",
       "3  Clash of Clans           20   \n",
       "4       ExileLord           20   \n",
       "\n",
       "                                                tags    views   likes  \\\n",
       "0  ign|Feature|PS4|Red Dead Redemption 2|games|Ac...   302270    6164   \n",
       "1  this is star wars|this is battlefront|this is ...  3384577  121972   \n",
       "2  clash of clans|COC|Clash of Clans Gameplay|Cla...  1847810   45150   \n",
       "3  clash of clans|COC|Clash of Clans Gameplay|Cla...  2785219   52036   \n",
       "4  Guitar Hero III: Legends of Rock|Guitar Hero|H...    87076    3518   \n",
       "\n",
       "   dislikes  comment_total                                  thumbnail_link  \\\n",
       "0       669            609  https://i.ytimg.com/vi/tqUKbEfW-B8/default.jpg   \n",
       "1      3291          23436  https://i.ytimg.com/vi/SNGWh_-R1VE/default.jpg   \n",
       "2      2633           2038  https://i.ytimg.com/vi/Y12lF3cYufo/default.jpg   \n",
       "3      2316           5828  https://i.ytimg.com/vi/lw-Xu7ZLD3w/default.jpg   \n",
       "4        21            227  https://i.ytimg.com/vi/A9U5wK_boYM/default.jpg   \n",
       "\n",
       "    date category  \n",
       "0  30.09   Gaming  \n",
       "1  30.09   Gaming  \n",
       "2  30.09   Gaming  \n",
       "3  29.09   Gaming  \n",
       "4  28.09   Gaming  "
      ]
     },
     "execution_count": 10,
     "metadata": {},
     "output_type": "execute_result"
    }
   ],
   "source": [
    "category =pd.read_json('US_category_id.json')\n",
    "id_video =[]\n",
    "video_name = []\n",
    "for index,row in category.iterrows():\n",
    "    x = row['items']\n",
    "    id_video.append(x['id'])\n",
    "    video_name.append(x['snippet']['title'])\n",
    "\n",
    "category = pd.DataFrame(zip(id_video, video_name),columns=['category_id', 'category'])\n",
    "category['category_id'] = category['category_id'].astype('int64')\n",
    "\n",
    "#Instead of maintaining two different datasets, I merged both into one by adding categories into the original 'data' dataset.\n",
    "us_cate = pd.merge(us, category, on = 'category_id', how = 'inner')\n",
    "us_cate.head()"
   ]
  },
  {
   "cell_type": "code",
   "execution_count": 11,
   "metadata": {},
   "outputs": [
    {
     "data": {
      "text/plain": [
       "array(['Gaming', 'Howto & Style', 'Music', 'Entertainment',\n",
       "       'News & Politics', 'Sports', 'Education', 'Comedy',\n",
       "       'Film & Animation', 'People & Blogs', 'Pets & Animals',\n",
       "       'Science & Technology', 'Autos & Vehicles', 'Travel & Events',\n",
       "       'Nonprofits & Activism', 'Shows'], dtype=object)"
      ]
     },
     "execution_count": 11,
     "metadata": {},
     "output_type": "execute_result"
    }
   ],
   "source": [
    "us_cate['category'].unique()"
   ]
  },
  {
   "cell_type": "code",
   "execution_count": 12,
   "metadata": {},
   "outputs": [
    {
     "data": {
      "text/html": [
       "<div>\n",
       "<style scoped>\n",
       "    .dataframe tbody tr th:only-of-type {\n",
       "        vertical-align: middle;\n",
       "    }\n",
       "\n",
       "    .dataframe tbody tr th {\n",
       "        vertical-align: top;\n",
       "    }\n",
       "\n",
       "    .dataframe thead th {\n",
       "        text-align: right;\n",
       "    }\n",
       "</style>\n",
       "<table border=\"1\" class=\"dataframe\">\n",
       "  <thead>\n",
       "    <tr style=\"text-align: right;\">\n",
       "      <th></th>\n",
       "      <th>video_id</th>\n",
       "      <th>title</th>\n",
       "      <th>channel_title</th>\n",
       "      <th>category_id</th>\n",
       "      <th>tags</th>\n",
       "      <th>views</th>\n",
       "      <th>likes</th>\n",
       "      <th>dislikes</th>\n",
       "      <th>comment_total</th>\n",
       "      <th>thumbnail_link</th>\n",
       "      <th>date</th>\n",
       "      <th>category</th>\n",
       "      <th>comment_text</th>\n",
       "    </tr>\n",
       "  </thead>\n",
       "  <tbody>\n",
       "    <tr>\n",
       "      <th>0</th>\n",
       "      <td>tqUKbEfW-B8</td>\n",
       "      <td>IGN Live: Red Dead Redemption 2 Trailer Reveal</td>\n",
       "      <td>IGN</td>\n",
       "      <td>20</td>\n",
       "      <td>ign|Feature|PS4|Red Dead Redemption 2|games|Ac...</td>\n",
       "      <td>302270</td>\n",
       "      <td>6164</td>\n",
       "      <td>669</td>\n",
       "      <td>609</td>\n",
       "      <td>https://i.ytimg.com/vi/tqUKbEfW-B8/default.jpg</td>\n",
       "      <td>30.09</td>\n",
       "      <td>Gaming</td>\n",
       "      <td>It's a prequel guys they had Dutch in the trailer</td>\n",
       "    </tr>\n",
       "    <tr>\n",
       "      <th>1</th>\n",
       "      <td>tqUKbEfW-B8</td>\n",
       "      <td>IGN Live: Red Dead Redemption 2 Trailer Reveal</td>\n",
       "      <td>IGN</td>\n",
       "      <td>20</td>\n",
       "      <td>ign|Feature|PS4|Red Dead Redemption 2|games|Ac...</td>\n",
       "      <td>302270</td>\n",
       "      <td>6164</td>\n",
       "      <td>669</td>\n",
       "      <td>609</td>\n",
       "      <td>https://i.ytimg.com/vi/tqUKbEfW-B8/default.jpg</td>\n",
       "      <td>30.09</td>\n",
       "      <td>Gaming</td>\n",
       "      <td>Van der Linde was a side character that wasn't...</td>\n",
       "    </tr>\n",
       "    <tr>\n",
       "      <th>2</th>\n",
       "      <td>tqUKbEfW-B8</td>\n",
       "      <td>IGN Live: Red Dead Redemption 2 Trailer Reveal</td>\n",
       "      <td>IGN</td>\n",
       "      <td>20</td>\n",
       "      <td>ign|Feature|PS4|Red Dead Redemption 2|games|Ac...</td>\n",
       "      <td>302270</td>\n",
       "      <td>6164</td>\n",
       "      <td>669</td>\n",
       "      <td>609</td>\n",
       "      <td>https://i.ytimg.com/vi/tqUKbEfW-B8/default.jpg</td>\n",
       "      <td>30.09</td>\n",
       "      <td>Gaming</td>\n",
       "      <td>Two people who seem haven't a clue about rdr1 ...</td>\n",
       "    </tr>\n",
       "    <tr>\n",
       "      <th>3</th>\n",
       "      <td>tqUKbEfW-B8</td>\n",
       "      <td>IGN Live: Red Dead Redemption 2 Trailer Reveal</td>\n",
       "      <td>IGN</td>\n",
       "      <td>20</td>\n",
       "      <td>ign|Feature|PS4|Red Dead Redemption 2|games|Ac...</td>\n",
       "      <td>302270</td>\n",
       "      <td>6164</td>\n",
       "      <td>669</td>\n",
       "      <td>609</td>\n",
       "      <td>https://i.ytimg.com/vi/tqUKbEfW-B8/default.jpg</td>\n",
       "      <td>30.09</td>\n",
       "      <td>Gaming</td>\n",
       "      <td>When is bully 2 coming i am excited about that ☺</td>\n",
       "    </tr>\n",
       "    <tr>\n",
       "      <th>4</th>\n",
       "      <td>tqUKbEfW-B8</td>\n",
       "      <td>IGN Live: Red Dead Redemption 2 Trailer Reveal</td>\n",
       "      <td>IGN</td>\n",
       "      <td>20</td>\n",
       "      <td>ign|Feature|PS4|Red Dead Redemption 2|games|Ac...</td>\n",
       "      <td>302270</td>\n",
       "      <td>6164</td>\n",
       "      <td>669</td>\n",
       "      <td>609</td>\n",
       "      <td>https://i.ytimg.com/vi/tqUKbEfW-B8/default.jpg</td>\n",
       "      <td>30.09</td>\n",
       "      <td>Gaming</td>\n",
       "      <td>magnificent 7 was a great movie</td>\n",
       "    </tr>\n",
       "  </tbody>\n",
       "</table>\n",
       "</div>"
      ],
      "text/plain": [
       "      video_id                                           title channel_title  \\\n",
       "0  tqUKbEfW-B8  IGN Live: Red Dead Redemption 2 Trailer Reveal           IGN   \n",
       "1  tqUKbEfW-B8  IGN Live: Red Dead Redemption 2 Trailer Reveal           IGN   \n",
       "2  tqUKbEfW-B8  IGN Live: Red Dead Redemption 2 Trailer Reveal           IGN   \n",
       "3  tqUKbEfW-B8  IGN Live: Red Dead Redemption 2 Trailer Reveal           IGN   \n",
       "4  tqUKbEfW-B8  IGN Live: Red Dead Redemption 2 Trailer Reveal           IGN   \n",
       "\n",
       "   category_id                                               tags   views  \\\n",
       "0           20  ign|Feature|PS4|Red Dead Redemption 2|games|Ac...  302270   \n",
       "1           20  ign|Feature|PS4|Red Dead Redemption 2|games|Ac...  302270   \n",
       "2           20  ign|Feature|PS4|Red Dead Redemption 2|games|Ac...  302270   \n",
       "3           20  ign|Feature|PS4|Red Dead Redemption 2|games|Ac...  302270   \n",
       "4           20  ign|Feature|PS4|Red Dead Redemption 2|games|Ac...  302270   \n",
       "\n",
       "   likes  dislikes  comment_total  \\\n",
       "0   6164       669            609   \n",
       "1   6164       669            609   \n",
       "2   6164       669            609   \n",
       "3   6164       669            609   \n",
       "4   6164       669            609   \n",
       "\n",
       "                                   thumbnail_link   date category  \\\n",
       "0  https://i.ytimg.com/vi/tqUKbEfW-B8/default.jpg  30.09   Gaming   \n",
       "1  https://i.ytimg.com/vi/tqUKbEfW-B8/default.jpg  30.09   Gaming   \n",
       "2  https://i.ytimg.com/vi/tqUKbEfW-B8/default.jpg  30.09   Gaming   \n",
       "3  https://i.ytimg.com/vi/tqUKbEfW-B8/default.jpg  30.09   Gaming   \n",
       "4  https://i.ytimg.com/vi/tqUKbEfW-B8/default.jpg  30.09   Gaming   \n",
       "\n",
       "                                        comment_text  \n",
       "0  It's a prequel guys they had Dutch in the trailer  \n",
       "1  Van der Linde was a side character that wasn't...  \n",
       "2  Two people who seem haven't a clue about rdr1 ...  \n",
       "3   When is bully 2 coming i am excited about that ☺  \n",
       "4                    magnificent 7 was a great movie  "
      ]
     },
     "execution_count": 12,
     "metadata": {},
     "output_type": "execute_result"
    }
   ],
   "source": [
    "comments=pd.read_csv('UScomments.csv',usecols=['video_id','comment_text'],error_bad_lines=False)\n",
    "final_df = pd.merge(us_cate, comments, on = 'video_id', how = 'left')\n",
    "final_df.head()"
   ]
  },
  {
   "cell_type": "code",
   "execution_count": 14,
   "metadata": {},
   "outputs": [
    {
     "data": {
      "text/plain": [
       "array(['Music', 'Entertainment', 'Comedy', 'Film & Animation',\n",
       "       'People & Blogs'], dtype=object)"
      ]
     },
     "execution_count": 14,
     "metadata": {},
     "output_type": "execute_result"
    }
   ],
   "source": [
    "#Music, Entertainment, Comedy, People & Blogs, Film & Animation\n",
    "final_df=final_df.loc[(final_df['category']=='Music')|(final_df['category']=='Comedy') | (final_df['category']=='People & Blogs') | (final_df['category']=='Entertainment')| (final_df['category']=='Film & Animation')]\n",
    "final_df['category'].unique()"
   ]
  },
  {
   "cell_type": "code",
   "execution_count": 15,
   "metadata": {},
   "outputs": [],
   "source": [
    "final_df=final_df.sample(5000)"
   ]
  },
  {
   "cell_type": "code",
   "execution_count": 16,
   "metadata": {},
   "outputs": [
    {
     "data": {
      "text/plain": [
       "(5000, 13)"
      ]
     },
     "execution_count": 16,
     "metadata": {},
     "output_type": "execute_result"
    }
   ],
   "source": [
    "final_df.shape"
   ]
  },
  {
   "cell_type": "code",
   "execution_count": 17,
   "metadata": {},
   "outputs": [
    {
     "data": {
      "text/plain": [
       "1148"
      ]
     },
     "execution_count": 17,
     "metadata": {},
     "output_type": "execute_result"
    }
   ],
   "source": [
    "len(final_df['video_id'].unique())"
   ]
  },
  {
   "cell_type": "code",
   "execution_count": 18,
   "metadata": {},
   "outputs": [
    {
     "data": {
      "text/html": [
       "<div>\n",
       "<style scoped>\n",
       "    .dataframe tbody tr th:only-of-type {\n",
       "        vertical-align: middle;\n",
       "    }\n",
       "\n",
       "    .dataframe tbody tr th {\n",
       "        vertical-align: top;\n",
       "    }\n",
       "\n",
       "    .dataframe thead th {\n",
       "        text-align: right;\n",
       "    }\n",
       "</style>\n",
       "<table border=\"1\" class=\"dataframe\">\n",
       "  <thead>\n",
       "    <tr style=\"text-align: right;\">\n",
       "      <th></th>\n",
       "      <th>category_id</th>\n",
       "      <th>views</th>\n",
       "      <th>likes</th>\n",
       "      <th>dislikes</th>\n",
       "      <th>comment_total</th>\n",
       "      <th>date</th>\n",
       "    </tr>\n",
       "  </thead>\n",
       "  <tbody>\n",
       "    <tr>\n",
       "      <th>count</th>\n",
       "      <td>5000.000000</td>\n",
       "      <td>5.000000e+03</td>\n",
       "      <td>5.000000e+03</td>\n",
       "      <td>5000.000000</td>\n",
       "      <td>5000.000000</td>\n",
       "      <td>5000.000000</td>\n",
       "    </tr>\n",
       "    <tr>\n",
       "      <th>mean</th>\n",
       "      <td>18.126200</td>\n",
       "      <td>1.513240e+06</td>\n",
       "      <td>5.657297e+04</td>\n",
       "      <td>3018.883400</td>\n",
       "      <td>7318.931000</td>\n",
       "      <td>18.976920</td>\n",
       "    </tr>\n",
       "    <tr>\n",
       "      <th>std</th>\n",
       "      <td>7.477905</td>\n",
       "      <td>3.274014e+06</td>\n",
       "      <td>1.343505e+05</td>\n",
       "      <td>16443.379315</td>\n",
       "      <td>35460.860698</td>\n",
       "      <td>7.289239</td>\n",
       "    </tr>\n",
       "    <tr>\n",
       "      <th>min</th>\n",
       "      <td>1.000000</td>\n",
       "      <td>0.000000e+00</td>\n",
       "      <td>0.000000e+00</td>\n",
       "      <td>0.000000</td>\n",
       "      <td>3.000000</td>\n",
       "      <td>1.100000</td>\n",
       "    </tr>\n",
       "    <tr>\n",
       "      <th>25%</th>\n",
       "      <td>10.000000</td>\n",
       "      <td>1.888678e+05</td>\n",
       "      <td>5.103000e+03</td>\n",
       "      <td>148.000000</td>\n",
       "      <td>577.500000</td>\n",
       "      <td>14.090000</td>\n",
       "    </tr>\n",
       "    <tr>\n",
       "      <th>50%</th>\n",
       "      <td>22.000000</td>\n",
       "      <td>6.029980e+05</td>\n",
       "      <td>1.548600e+04</td>\n",
       "      <td>517.000000</td>\n",
       "      <td>1632.000000</td>\n",
       "      <td>19.100000</td>\n",
       "    </tr>\n",
       "    <tr>\n",
       "      <th>75%</th>\n",
       "      <td>24.000000</td>\n",
       "      <td>1.670947e+06</td>\n",
       "      <td>5.479500e+04</td>\n",
       "      <td>1710.000000</td>\n",
       "      <td>4738.000000</td>\n",
       "      <td>24.090000</td>\n",
       "    </tr>\n",
       "    <tr>\n",
       "      <th>max</th>\n",
       "      <td>24.000000</td>\n",
       "      <td>4.150067e+07</td>\n",
       "      <td>2.010366e+06</td>\n",
       "      <td>318404.000000</td>\n",
       "      <td>736179.000000</td>\n",
       "      <td>30.090000</td>\n",
       "    </tr>\n",
       "  </tbody>\n",
       "</table>\n",
       "</div>"
      ],
      "text/plain": [
       "       category_id         views         likes       dislikes  comment_total  \\\n",
       "count  5000.000000  5.000000e+03  5.000000e+03    5000.000000    5000.000000   \n",
       "mean     18.126200  1.513240e+06  5.657297e+04    3018.883400    7318.931000   \n",
       "std       7.477905  3.274014e+06  1.343505e+05   16443.379315   35460.860698   \n",
       "min       1.000000  0.000000e+00  0.000000e+00       0.000000       3.000000   \n",
       "25%      10.000000  1.888678e+05  5.103000e+03     148.000000     577.500000   \n",
       "50%      22.000000  6.029980e+05  1.548600e+04     517.000000    1632.000000   \n",
       "75%      24.000000  1.670947e+06  5.479500e+04    1710.000000    4738.000000   \n",
       "max      24.000000  4.150067e+07  2.010366e+06  318404.000000  736179.000000   \n",
       "\n",
       "              date  \n",
       "count  5000.000000  \n",
       "mean     18.976920  \n",
       "std       7.289239  \n",
       "min       1.100000  \n",
       "25%      14.090000  \n",
       "50%      19.100000  \n",
       "75%      24.090000  \n",
       "max      30.090000  "
      ]
     },
     "execution_count": 18,
     "metadata": {},
     "output_type": "execute_result"
    }
   ],
   "source": [
    "final_df.describe()"
   ]
  },
  {
   "cell_type": "code",
   "execution_count": 19,
   "metadata": {},
   "outputs": [
    {
     "data": {
      "text/plain": [
       "jacksfilms                                50\n",
       "The Late Late Show with James Corden      48\n",
       "Netflix                                   48\n",
       "TheEllenShow                              47\n",
       "Safiya Nygaard                            45\n",
       "CollegeHumor                              45\n",
       "vlogbrothers                              44\n",
       "Simply Nailogical                         42\n",
       "Good Mythical Morning                     40\n",
       "Meet Arnold                               38\n",
       "Jimmy Kimmel Live                         36\n",
       "BuzzFeedVideo                             35\n",
       "SuperCarlinBrothers                       34\n",
       "iJustine                                  34\n",
       "The Tonight Show Starring Jimmy Fallon    33\n",
       "The Late Show with Stephen Colbert        32\n",
       "Team Coco                                 32\n",
       "Grace Helbig                              32\n",
       "Wil Dasovich                              32\n",
       "Liza Koshy                                31\n",
       "Name: channel_title, dtype: int64"
      ]
     },
     "execution_count": 19,
     "metadata": {},
     "output_type": "execute_result"
    }
   ],
   "source": [
    "final_df['channel_title'].value_counts()[:20].sort_values(ascending=False)"
   ]
  },
  {
   "cell_type": "markdown",
   "metadata": {},
   "source": [
    "# Sentiment Analysis"
   ]
  },
  {
   "cell_type": "code",
   "execution_count": 20,
   "metadata": {},
   "outputs": [],
   "source": [
    "import re\n",
    "import string\n",
    "from nltk.stem import PorterStemmer\n",
    "porter = PorterStemmer()"
   ]
  },
  {
   "cell_type": "markdown",
   "metadata": {},
   "source": [
    "# predict category"
   ]
  },
  {
   "cell_type": "code",
   "execution_count": 21,
   "metadata": {},
   "outputs": [
    {
     "name": "stdout",
     "output_type": "stream",
     "text": [
      "Number of missing values: 0\n"
     ]
    }
   ],
   "source": [
    "# Missing Values\n",
    "num_missing_desc = final_df.isnull().sum()[2]    # No. of values with msising descriptions\n",
    "print('Number of missing values: ' + str(num_missing_desc))\n",
    "final_df = final_df.dropna()"
   ]
  },
  {
   "cell_type": "code",
   "execution_count": 22,
   "metadata": {},
   "outputs": [],
   "source": [
    "from nltk.tokenize import word_tokenize"
   ]
  },
  {
   "cell_type": "code",
   "execution_count": 23,
   "metadata": {},
   "outputs": [],
   "source": [
    "final_df['tags'] = final_df['tags'].map(lambda x:' '.join((x.split('|'))))"
   ]
  },
  {
   "cell_type": "code",
   "execution_count": 24,
   "metadata": {},
   "outputs": [],
   "source": [
    "final_df['tags'] = final_df['tags'].map(lambda x: x.lower())\n",
    "final_df['tags'] = final_df['tags'].map(lambda x: re.sub(r'\\d+', '', x))\n",
    "final_df['tags'] = final_df['tags'].map(lambda x: x.translate(x.maketrans('', '', string.punctuation)))\n",
    "final_df['tags'] = final_df['tags'].map(lambda x: x.strip())"
   ]
  },
  {
   "cell_type": "code",
   "execution_count": 25,
   "metadata": {},
   "outputs": [],
   "source": [
    "final_df['title'] = final_df['title'].map(lambda x: x.lower())\n",
    "final_df['title'] = final_df['title'].map(lambda x: re.sub(r'\\d+', '', x))\n",
    "final_df['title'] = final_df['title'].map(lambda x: x.translate(x.maketrans('', '', string.punctuation)))\n",
    "final_df['title'] = final_df['title'].map(lambda x: x.strip())"
   ]
  },
  {
   "cell_type": "code",
   "execution_count": 26,
   "metadata": {},
   "outputs": [],
   "source": [
    "final_df['tags'] = final_df['tags'].map(lambda x: word_tokenize(x))\n",
    "final_df['title'] = final_df['title'].map(lambda x: word_tokenize(x))"
   ]
  },
  {
   "cell_type": "code",
   "execution_count": 27,
   "metadata": {},
   "outputs": [],
   "source": [
    "final_df['tags']= final_df['tags'].map(lambda x: [word for word in x if word.isalpha()])\n",
    "final_df['title']= final_df['title'].map(lambda x: [word for word in x if word.isalpha()])"
   ]
  },
  {
   "cell_type": "code",
   "execution_count": 28,
   "metadata": {},
   "outputs": [],
   "source": [
    "from nltk.corpus import stopwords\n",
    "stop = stopwords.words('english')"
   ]
  },
  {
   "cell_type": "code",
   "execution_count": 29,
   "metadata": {},
   "outputs": [],
   "source": [
    "final_df['tags'] = final_df['tags'].map(lambda x: [w for w in x if not w in stop])\n",
    "final_df['title'] = final_df['title'].map(lambda x: [w for w in x if not w in stop])"
   ]
  },
  {
   "cell_type": "code",
   "execution_count": 30,
   "metadata": {},
   "outputs": [],
   "source": [
    "from nltk.stem import WordNetLemmatizer\n",
    "wnl = WordNetLemmatizer()"
   ]
  },
  {
   "cell_type": "code",
   "execution_count": 31,
   "metadata": {},
   "outputs": [],
   "source": [
    "final_df['tags'] = final_df['tags'].map(lambda x: [wnl.lemmatize(word,\"v\") for word in x])\n",
    "final_df['title'] = final_df['title'].map(lambda x: [wnl.lemmatize(word,\"v\") for word in x])"
   ]
  },
  {
   "cell_type": "code",
   "execution_count": 32,
   "metadata": {},
   "outputs": [],
   "source": [
    "final_df['tags'] = final_df['tags'].map(lambda x: ' '.join(x))\n",
    "final_df['title'] = final_df['title'].map(lambda x: ' '.join(x))"
   ]
  },
  {
   "cell_type": "markdown",
   "metadata": {},
   "source": [
    "# Label Encoding classes\n"
   ]
  },
  {
   "cell_type": "code",
   "execution_count": 33,
   "metadata": {},
   "outputs": [
    {
     "data": {
      "text/html": [
       "<div>\n",
       "<style scoped>\n",
       "    .dataframe tbody tr th:only-of-type {\n",
       "        vertical-align: middle;\n",
       "    }\n",
       "\n",
       "    .dataframe tbody tr th {\n",
       "        vertical-align: top;\n",
       "    }\n",
       "\n",
       "    .dataframe thead th {\n",
       "        text-align: right;\n",
       "    }\n",
       "</style>\n",
       "<table border=\"1\" class=\"dataframe\">\n",
       "  <thead>\n",
       "    <tr style=\"text-align: right;\">\n",
       "      <th></th>\n",
       "      <th>video_id</th>\n",
       "      <th>title</th>\n",
       "      <th>channel_title</th>\n",
       "      <th>category_id</th>\n",
       "      <th>tags</th>\n",
       "      <th>views</th>\n",
       "      <th>likes</th>\n",
       "      <th>dislikes</th>\n",
       "      <th>comment_total</th>\n",
       "      <th>thumbnail_link</th>\n",
       "      <th>date</th>\n",
       "      <th>category</th>\n",
       "      <th>comment_text</th>\n",
       "    </tr>\n",
       "  </thead>\n",
       "  <tbody>\n",
       "    <tr>\n",
       "      <th>331127</th>\n",
       "      <td>Ga1uiDaqMjQ</td>\n",
       "      <td>boy honk swallow toy horn</td>\n",
       "      <td>Storyful Rights Management</td>\n",
       "      <td>24</td>\n",
       "      <td>storyful news viral</td>\n",
       "      <td>364644</td>\n",
       "      <td>772</td>\n",
       "      <td>111</td>\n",
       "      <td>130</td>\n",
       "      <td>https://i.ytimg.com/vi/Ga1uiDaqMjQ/default.jpg</td>\n",
       "      <td>6.10</td>\n",
       "      <td>1</td>\n",
       "      <td>In latin Argentina, horn honks you.</td>\n",
       "    </tr>\n",
       "    <tr>\n",
       "      <th>303592</th>\n",
       "      <td>a5F05Qpi6lM</td>\n",
       "      <td>meghan mccain join view cohost view</td>\n",
       "      <td>The View</td>\n",
       "      <td>24</td>\n",
       "      <td>meghan mccain john mccain view hot topics</td>\n",
       "      <td>231986</td>\n",
       "      <td>1505</td>\n",
       "      <td>1630</td>\n",
       "      <td>1949</td>\n",
       "      <td>https://i.ytimg.com/vi/a5F05Qpi6lM/default.jpg</td>\n",
       "      <td>14.10</td>\n",
       "      <td>1</td>\n",
       "      <td>She sounds like Demi Lovato.</td>\n",
       "    </tr>\n",
       "    <tr>\n",
       "      <th>281576</th>\n",
       "      <td>Zya-JNMJ62k</td>\n",
       "      <td>hell yes</td>\n",
       "      <td>Jack Black</td>\n",
       "      <td>24</td>\n",
       "      <td>jack black jables black tenacious king jables ...</td>\n",
       "      <td>445225</td>\n",
       "      <td>7327</td>\n",
       "      <td>248</td>\n",
       "      <td>534</td>\n",
       "      <td>https://i.ytimg.com/vi/Zya-JNMJ62k/default.jpg</td>\n",
       "      <td>19.09</td>\n",
       "      <td>1</td>\n",
       "      <td>Looking like a young jack Nicholson you guys s...</td>\n",
       "    </tr>\n",
       "    <tr>\n",
       "      <th>298944</th>\n",
       "      <td>RaKxVWJxA2U</td>\n",
       "      <td>star war last jedi trailer breakdown nerdist n...</td>\n",
       "      <td>Nerdist</td>\n",
       "      <td>24</td>\n",
       "      <td>nerdist fvid nerdist news amy vorpahl star war...</td>\n",
       "      <td>100988</td>\n",
       "      <td>3039</td>\n",
       "      <td>180</td>\n",
       "      <td>581</td>\n",
       "      <td>https://i.ytimg.com/vi/RaKxVWJxA2U/default.jpg</td>\n",
       "      <td>15.10</td>\n",
       "      <td>1</td>\n",
       "      <td>Team Jessica!</td>\n",
       "    </tr>\n",
       "    <tr>\n",
       "      <th>119078</th>\n",
       "      <td>XF_ARz7jTUw</td>\n",
       "      <td>look make taylor mountain</td>\n",
       "      <td>Taylor Swift</td>\n",
       "      <td>10</td>\n",
       "      <td>taylor swift lwymmd reputation transformation ...</td>\n",
       "      <td>1785675</td>\n",
       "      <td>50282</td>\n",
       "      <td>1665</td>\n",
       "      <td>2727</td>\n",
       "      <td>https://i.ytimg.com/vi/XF_ARz7jTUw/default.jpg</td>\n",
       "      <td>26.09</td>\n",
       "      <td>3</td>\n",
       "      <td>I love Taylor more than myself</td>\n",
       "    </tr>\n",
       "    <tr>\n",
       "      <th>...</th>\n",
       "      <td>...</td>\n",
       "      <td>...</td>\n",
       "      <td>...</td>\n",
       "      <td>...</td>\n",
       "      <td>...</td>\n",
       "      <td>...</td>\n",
       "      <td>...</td>\n",
       "      <td>...</td>\n",
       "      <td>...</td>\n",
       "      <td>...</td>\n",
       "      <td>...</td>\n",
       "      <td>...</td>\n",
       "      <td>...</td>\n",
       "    </tr>\n",
       "    <tr>\n",
       "      <th>506262</th>\n",
       "      <td>z5Wo-iF6lA8</td>\n",
       "      <td>allergic cyanide happiness short</td>\n",
       "      <td>ExplosmEntertainment</td>\n",
       "      <td>23</td>\n",
       "      <td>short chshorts ch short c h short cyanide happ...</td>\n",
       "      <td>1568371</td>\n",
       "      <td>58222</td>\n",
       "      <td>3631</td>\n",
       "      <td>3332</td>\n",
       "      <td>https://i.ytimg.com/vi/z5Wo-iF6lA8/default.jpg</td>\n",
       "      <td>11.10</td>\n",
       "      <td>0</td>\n",
       "      <td>Ahhaha\\nEach!!!!</td>\n",
       "    </tr>\n",
       "    <tr>\n",
       "      <th>296176</th>\n",
       "      <td>WSFJsq_jwMs</td>\n",
       "      <td>bruno mar thats like acoustic remix charlie rise</td>\n",
       "      <td>Charlie Rose</td>\n",
       "      <td>24</td>\n",
       "      <td>music thats like album grammy pbs</td>\n",
       "      <td>326208</td>\n",
       "      <td>8287</td>\n",
       "      <td>85</td>\n",
       "      <td>444</td>\n",
       "      <td>https://i.ytimg.com/vi/WSFJsq_jwMs/default.jpg</td>\n",
       "      <td>16.10</td>\n",
       "      <td>1</td>\n",
       "      <td>Ohhhhh por Dios es un gusto escucharlos</td>\n",
       "    </tr>\n",
       "    <tr>\n",
       "      <th>153795</th>\n",
       "      <td>fS5xHHqW-6E</td>\n",
       "      <td>x ambassadors ahead</td>\n",
       "      <td>XAmbassadorsVEVO</td>\n",
       "      <td>10</td>\n",
       "      <td>ambassadors ahead kidinakornerinterscope recor...</td>\n",
       "      <td>370459</td>\n",
       "      <td>18297</td>\n",
       "      <td>208</td>\n",
       "      <td>604</td>\n",
       "      <td>https://i.ytimg.com/vi/fS5xHHqW-6E/default.jpg</td>\n",
       "      <td>19.09</td>\n",
       "      <td>3</td>\n",
       "      <td>❤❤❤ x ambassadors has and will always been my ...</td>\n",
       "    </tr>\n",
       "    <tr>\n",
       "      <th>297846</th>\n",
       "      <td>1ZNZY-gd3K0</td>\n",
       "      <td>joe arpaio last week tonight john oliver hbo</td>\n",
       "      <td>LastWeekTonight</td>\n",
       "      <td>24</td>\n",
       "      <td>last week tonight joe arpaio joe arpaio john o...</td>\n",
       "      <td>3794392</td>\n",
       "      <td>70200</td>\n",
       "      <td>4587</td>\n",
       "      <td>9142</td>\n",
       "      <td>https://i.ytimg.com/vi/1ZNZY-gd3K0/default.jpg</td>\n",
       "      <td>16.09</td>\n",
       "      <td>1</td>\n",
       "      <td>Is it me or is John starting to look hot.</td>\n",
       "    </tr>\n",
       "    <tr>\n",
       "      <th>164686</th>\n",
       "      <td>JhA1Wi9mrns</td>\n",
       "      <td>kid rock tennessee mountain top lyric</td>\n",
       "      <td>Kid Rock</td>\n",
       "      <td>10</td>\n",
       "      <td>kid rock greatests show earth po dunk tennesse...</td>\n",
       "      <td>324599</td>\n",
       "      <td>6496</td>\n",
       "      <td>859</td>\n",
       "      <td>635</td>\n",
       "      <td>https://i.ytimg.com/vi/JhA1Wi9mrns/default.jpg</td>\n",
       "      <td>18.09</td>\n",
       "      <td>3</td>\n",
       "      <td>Sweet knuckle-dragging christ this is awful. K...</td>\n",
       "    </tr>\n",
       "  </tbody>\n",
       "</table>\n",
       "<p>5000 rows × 13 columns</p>\n",
       "</div>"
      ],
      "text/plain": [
       "           video_id                                              title  \\\n",
       "331127  Ga1uiDaqMjQ                          boy honk swallow toy horn   \n",
       "303592  a5F05Qpi6lM                meghan mccain join view cohost view   \n",
       "281576  Zya-JNMJ62k                                           hell yes   \n",
       "298944  RaKxVWJxA2U  star war last jedi trailer breakdown nerdist n...   \n",
       "119078  XF_ARz7jTUw                          look make taylor mountain   \n",
       "...             ...                                                ...   \n",
       "506262  z5Wo-iF6lA8                   allergic cyanide happiness short   \n",
       "296176  WSFJsq_jwMs   bruno mar thats like acoustic remix charlie rise   \n",
       "153795  fS5xHHqW-6E                                x ambassadors ahead   \n",
       "297846  1ZNZY-gd3K0       joe arpaio last week tonight john oliver hbo   \n",
       "164686  JhA1Wi9mrns              kid rock tennessee mountain top lyric   \n",
       "\n",
       "                     channel_title  category_id  \\\n",
       "331127  Storyful Rights Management           24   \n",
       "303592                    The View           24   \n",
       "281576                  Jack Black           24   \n",
       "298944                     Nerdist           24   \n",
       "119078                Taylor Swift           10   \n",
       "...                            ...          ...   \n",
       "506262        ExplosmEntertainment           23   \n",
       "296176                Charlie Rose           24   \n",
       "153795            XAmbassadorsVEVO           10   \n",
       "297846             LastWeekTonight           24   \n",
       "164686                    Kid Rock           10   \n",
       "\n",
       "                                                     tags    views  likes  \\\n",
       "331127                                storyful news viral   364644    772   \n",
       "303592          meghan mccain john mccain view hot topics   231986   1505   \n",
       "281576  jack black jables black tenacious king jables ...   445225   7327   \n",
       "298944  nerdist fvid nerdist news amy vorpahl star war...   100988   3039   \n",
       "119078  taylor swift lwymmd reputation transformation ...  1785675  50282   \n",
       "...                                                   ...      ...    ...   \n",
       "506262  short chshorts ch short c h short cyanide happ...  1568371  58222   \n",
       "296176                  music thats like album grammy pbs   326208   8287   \n",
       "153795  ambassadors ahead kidinakornerinterscope recor...   370459  18297   \n",
       "297846  last week tonight joe arpaio joe arpaio john o...  3794392  70200   \n",
       "164686  kid rock greatests show earth po dunk tennesse...   324599   6496   \n",
       "\n",
       "        dislikes  comment_total  \\\n",
       "331127       111            130   \n",
       "303592      1630           1949   \n",
       "281576       248            534   \n",
       "298944       180            581   \n",
       "119078      1665           2727   \n",
       "...          ...            ...   \n",
       "506262      3631           3332   \n",
       "296176        85            444   \n",
       "153795       208            604   \n",
       "297846      4587           9142   \n",
       "164686       859            635   \n",
       "\n",
       "                                        thumbnail_link   date  category  \\\n",
       "331127  https://i.ytimg.com/vi/Ga1uiDaqMjQ/default.jpg   6.10         1   \n",
       "303592  https://i.ytimg.com/vi/a5F05Qpi6lM/default.jpg  14.10         1   \n",
       "281576  https://i.ytimg.com/vi/Zya-JNMJ62k/default.jpg  19.09         1   \n",
       "298944  https://i.ytimg.com/vi/RaKxVWJxA2U/default.jpg  15.10         1   \n",
       "119078  https://i.ytimg.com/vi/XF_ARz7jTUw/default.jpg  26.09         3   \n",
       "...                                                ...    ...       ...   \n",
       "506262  https://i.ytimg.com/vi/z5Wo-iF6lA8/default.jpg  11.10         0   \n",
       "296176  https://i.ytimg.com/vi/WSFJsq_jwMs/default.jpg  16.10         1   \n",
       "153795  https://i.ytimg.com/vi/fS5xHHqW-6E/default.jpg  19.09         3   \n",
       "297846  https://i.ytimg.com/vi/1ZNZY-gd3K0/default.jpg  16.09         1   \n",
       "164686  https://i.ytimg.com/vi/JhA1Wi9mrns/default.jpg  18.09         3   \n",
       "\n",
       "                                             comment_text  \n",
       "331127                In latin Argentina, horn honks you.  \n",
       "303592                       She sounds like Demi Lovato.  \n",
       "281576  Looking like a young jack Nicholson you guys s...  \n",
       "298944                                      Team Jessica!  \n",
       "119078                     I love Taylor more than myself  \n",
       "...                                                   ...  \n",
       "506262                                   Ahhaha\\nEach!!!!  \n",
       "296176            Ohhhhh por Dios es un gusto escucharlos  \n",
       "153795  ❤❤❤ x ambassadors has and will always been my ...  \n",
       "297846          Is it me or is John starting to look hot.  \n",
       "164686  Sweet knuckle-dragging christ this is awful. K...  \n",
       "\n",
       "[5000 rows x 13 columns]"
      ]
     },
     "execution_count": 33,
     "metadata": {},
     "output_type": "execute_result"
    }
   ],
   "source": [
    "from sklearn.preprocessing import LabelEncoder\n",
    "le = LabelEncoder()\n",
    "le.fit(final_df.category)\n",
    "final_df.category = le.transform(final_df.category)\n",
    "final_df"
   ]
  },
  {
   "cell_type": "markdown",
   "metadata": {},
   "source": [
    "# Vectorizing text features using TF-IDF¶\n"
   ]
  },
  {
   "cell_type": "code",
   "execution_count": 34,
   "metadata": {},
   "outputs": [
    {
     "name": "stdout",
     "output_type": "stream",
     "text": [
      "Title Features Shape: (5000, 3537)\n",
      "Description Features Shape: (5000, 14300)\n"
     ]
    }
   ],
   "source": [
    "from sklearn.feature_extraction.text import TfidfVectorizer\n",
    "tfidf_title = TfidfVectorizer(sublinear_tf=True, min_df=5, norm='l2', encoding='latin-1', ngram_range=(1, 2), stop_words='english')\n",
    "tfidf_tags = TfidfVectorizer(sublinear_tf=True, min_df=5, norm='l2', encoding='latin-1', ngram_range=(1, 2), stop_words='english')\n",
    "labels = final_df.category\n",
    "features_title = tfidf_title.fit_transform(final_df.title).toarray()\n",
    "features_tags = tfidf_tags.fit_transform(final_df.tags).toarray()\n",
    "print('Title Features Shape: ' + str(features_title.shape))\n",
    "print('Description Features Shape: ' + str(features_tags.shape))"
   ]
  },
  {
   "cell_type": "code",
   "execution_count": 64,
   "metadata": {},
   "outputs": [
    {
     "data": {
      "text/plain": [
       "array([[0., 0., 0., ..., 0., 0., 0.],\n",
       "       [0., 0., 0., ..., 0., 0., 0.],\n",
       "       [0., 0., 0., ..., 0., 0., 0.],\n",
       "       ...,\n",
       "       [0., 0., 0., ..., 0., 0., 0.],\n",
       "       [0., 0., 0., ..., 0., 0., 0.],\n",
       "       [0., 0., 0., ..., 0., 0., 0.]])"
      ]
     },
     "execution_count": 64,
     "metadata": {},
     "output_type": "execute_result"
    }
   ],
   "source": [
    "features_tags"
   ]
  },
  {
   "cell_type": "code",
   "execution_count": 35,
   "metadata": {},
   "outputs": [
    {
     "name": "stdout",
     "output_type": "stream",
     "text": [
      "# 'Comedy':\n",
      "Most correlated unigrams:\n",
      "------------------------------\n",
      ". parody\n",
      ". lele\n",
      ". pons\n",
      ". anwar\n",
      ". jibawi\n",
      "Most correlated bigrams:\n",
      "------------------------------\n",
      ". conan tbs\n",
      ". hannah stock\n",
      ". iphone parody\n",
      ". lele pons\n",
      ". anwar jibawi\n",
      "\n",
      "\n",
      "# 'Entertainment':\n",
      "Most correlated unigrams:\n",
      "------------------------------\n",
      ". trailer\n",
      ". season\n",
      ". star\n",
      ". audio\n",
      ". superfruit\n",
      "Most correlated bigrams:\n",
      "------------------------------\n",
      ". season official\n",
      ". official trailer\n",
      ". official video\n",
      ". hd netflix\n",
      ". dance star\n",
      "\n",
      "\n",
      "# 'Film & Animation':\n",
      "Most correlated unigrams:\n",
      "------------------------------\n",
      ". wrong\n",
      ". nonwhite\n",
      ". fox\n",
      ". rick\n",
      ". trailers\n",
      "Most correlated bigrams:\n",
      "------------------------------\n",
      ". th century\n",
      ". paramount picture\n",
      ". trailer paramount\n",
      ". film theory\n",
      ". honest trailers\n",
      "\n",
      "\n",
      "# 'Music':\n",
      "Most correlated unigrams:\n",
      "------------------------------\n",
      ". music\n",
      ". lyric\n",
      ". official\n",
      ". video\n",
      ". audio\n",
      "Most correlated bigrams:\n",
      "------------------------------\n",
      ". official music\n",
      ". music video\n",
      ". lyric video\n",
      ". official audio\n",
      ". official video\n",
      "\n",
      "\n",
      "# 'People & Blogs':\n",
      "Most correlated unigrams:\n",
      "------------------------------\n",
      ". arnold\n",
      ". petsch\n",
      ". madelaine\n",
      ". try\n",
      ". helbig\n",
      "Most correlated bigrams:\n",
      "------------------------------\n",
      ". hit volts\n",
      ". arnold hit\n",
      ". happen microwave\n",
      ". madelaine petsch\n",
      ". grace helbig\n",
      "\n",
      "\n"
     ]
    }
   ],
   "source": [
    "# Best 5 keywords for each class using Title Feaures\n",
    "from sklearn.feature_selection import chi2\n",
    "import numpy as np\n",
    "N = 5\n",
    "for current_class in list(le.classes_):\n",
    "    current_class_id = le.transform([current_class])[0]\n",
    "    features_chi2 = chi2(features_title, labels == current_class_id)\n",
    "    indices = np.argsort(features_chi2[0])\n",
    "    feature_names = np.array(tfidf_title.get_feature_names())[indices]\n",
    "    unigrams = [v for v in feature_names if len(v.split(' ')) == 1]\n",
    "    bigrams = [v for v in feature_names if len(v.split(' ')) == 2]\n",
    "    print(\"# '{}':\".format(current_class))\n",
    "    print(\"Most correlated unigrams:\")\n",
    "    print('-' *30)\n",
    "    print('. {}'.format('\\n. '.join(unigrams[-N:])))\n",
    "    print(\"Most correlated bigrams:\")\n",
    "    print('-' *30)\n",
    "    print('. {}'.format('\\n. '.join(bigrams[-N:])))\n",
    "    print(\"\\n\")"
   ]
  },
  {
   "cell_type": "code",
   "execution_count": 55,
   "metadata": {},
   "outputs": [],
   "source": [
    "from sklearn.model_selection import train_test_split\n",
    "from sklearn.naive_bayes import MultinomialNB\n",
    "from sklearn import linear_model\n",
    "from sklearn.ensemble import RandomForestClassifier\n",
    "from sklearn.metrics import confusion_matrix, classification_report\n",
    "from sklearn import metrics\n"
   ]
  },
  {
   "cell_type": "code",
   "execution_count": 37,
   "metadata": {},
   "outputs": [],
   "source": [
    "X=final_df[['title','tags']]\n",
    "y=final_df['category']"
   ]
  },
  {
   "cell_type": "code",
   "execution_count": 40,
   "metadata": {},
   "outputs": [],
   "source": [
    "X_train, X_test, y_train, y_test = train_test_split(X,y, random_state = 0)\n",
    "X_train_title_features = tfidf_title.transform(X_train['title']).toarray()\n",
    "X_train_tags_features = tfidf_tags.transform(X_train['tags']).toarray()\n",
    "features = np.concatenate([X_train_title_features, X_train_tags_features], axis=1)"
   ]
  },
  {
   "cell_type": "code",
   "execution_count": 42,
   "metadata": {},
   "outputs": [],
   "source": [
    "X_test_title_features = tfidf_title.transform(X_test['title']).toarray()\n",
    "X_test_tags_features = tfidf_tags.transform(X_test['tags']).toarray()\n",
    "test_features = np.concatenate([X_test_title_features, X_test_tags_features], axis=1)"
   ]
  },
  {
   "cell_type": "markdown",
   "metadata": {},
   "source": [
    "# Naive Bayes Classfication"
   ]
  },
  {
   "cell_type": "code",
   "execution_count": 52,
   "metadata": {},
   "outputs": [
    {
     "name": "stdout",
     "output_type": "stream",
     "text": [
      "[[196   4   2   2   3]\n",
      " [  2 395   0   5   2]\n",
      " [  1   9  75   4   0]\n",
      " [  0   6   0 333   0]\n",
      " [  2  15   0   1 193]]\n",
      "                  precision    recall  f1-score   support\n",
      "\n",
      "          Comedy       0.98      0.95      0.96       207\n",
      "   Entertainment       0.92      0.98      0.95       404\n",
      "Film & Animation       0.97      0.84      0.90        89\n",
      "           Music       0.97      0.98      0.97       339\n",
      "  People & Blogs       0.97      0.91      0.94       211\n",
      "\n",
      "        accuracy                           0.95      1250\n",
      "       macro avg       0.96      0.93      0.95      1250\n",
      "    weighted avg       0.95      0.95      0.95      1250\n",
      "\n"
     ]
    }
   ],
   "source": [
    "nb = MultinomialNB().fit(features, y_train)\n",
    "y_pred = nb.predict(test_features)\n",
    "y_probas = nb.predict_proba(test_features)\n",
    "\n",
    "print(confusion_matrix(y_test, y_pred))\n",
    "print(metrics.classification_report(y_test, y_pred, target_names=list(le.classes_)))"
   ]
  },
  {
   "cell_type": "markdown",
   "metadata": {},
   "source": [
    "# SVM "
   ]
  },
  {
   "cell_type": "code",
   "execution_count": 59,
   "metadata": {},
   "outputs": [],
   "source": [
    "svm = linear_model.SGDClassifier(loss='modified_huber').fit(features,y_train)"
   ]
  },
  {
   "cell_type": "code",
   "execution_count": 60,
   "metadata": {},
   "outputs": [
    {
     "name": "stdout",
     "output_type": "stream",
     "text": [
      "[[204   2   0   0   1]\n",
      " [  1 394   1   2   6]\n",
      " [  1   0  82   1   5]\n",
      " [  0   6   0 331   2]\n",
      " [  0   1   0   1 209]]\n",
      "                  precision    recall  f1-score   support\n",
      "\n",
      "          Comedy       0.99      0.99      0.99       207\n",
      "   Entertainment       0.98      0.98      0.98       404\n",
      "Film & Animation       0.99      0.92      0.95        89\n",
      "           Music       0.99      0.98      0.98       339\n",
      "  People & Blogs       0.94      0.99      0.96       211\n",
      "\n",
      "        accuracy                           0.98      1250\n",
      "       macro avg       0.98      0.97      0.97      1250\n",
      "    weighted avg       0.98      0.98      0.98      1250\n",
      "\n"
     ]
    }
   ],
   "source": [
    "y_pred = svm.predict(test_features)\n",
    "y_probas = svm.predict_proba(test_features)\n",
    "\n",
    "print(confusion_matrix(y_test, y_pred))\n",
    "print(metrics.classification_report(y_test, y_pred, target_names=list(le.classes_)))"
   ]
  },
  {
   "cell_type": "markdown",
   "metadata": {},
   "source": [
    "# Random Forest"
   ]
  },
  {
   "cell_type": "code",
   "execution_count": 61,
   "metadata": {},
   "outputs": [],
   "source": [
    "rf = RandomForestClassifier(n_estimators=100).fit(features,y_train)"
   ]
  },
  {
   "cell_type": "code",
   "execution_count": 62,
   "metadata": {},
   "outputs": [
    {
     "name": "stdout",
     "output_type": "stream",
     "text": [
      "[[205   0   0   0   2]\n",
      " [  3 396   0   2   3]\n",
      " [  0   1  81   1   6]\n",
      " [  0   3   0 335   1]\n",
      " [  0   0   0   4 207]]\n",
      "                  precision    recall  f1-score   support\n",
      "\n",
      "          Comedy       0.99      0.99      0.99       207\n",
      "   Entertainment       0.99      0.98      0.99       404\n",
      "Film & Animation       1.00      0.91      0.95        89\n",
      "           Music       0.98      0.99      0.98       339\n",
      "  People & Blogs       0.95      0.98      0.96       211\n",
      "\n",
      "        accuracy                           0.98      1250\n",
      "       macro avg       0.98      0.97      0.97      1250\n",
      "    weighted avg       0.98      0.98      0.98      1250\n",
      "\n"
     ]
    }
   ],
   "source": [
    "y_pred = rf.predict(test_features)\n",
    "y_probas = rf.predict_proba(test_features)\n",
    "\n",
    "print(confusion_matrix(y_test, y_pred))\n",
    "print(metrics.classification_report(y_test, y_pred, target_names=list(le.classes_)))"
   ]
  },
  {
   "cell_type": "code",
   "execution_count": null,
   "metadata": {},
   "outputs": [],
   "source": []
  }
 ],
 "metadata": {
  "kernelspec": {
   "display_name": "Python 3",
   "language": "python",
   "name": "python3"
  },
  "language_info": {
   "codemirror_mode": {
    "name": "ipython",
    "version": 3
   },
   "file_extension": ".py",
   "mimetype": "text/x-python",
   "name": "python",
   "nbconvert_exporter": "python",
   "pygments_lexer": "ipython3",
   "version": "3.8.5"
  }
 },
 "nbformat": 4,
 "nbformat_minor": 2
}
